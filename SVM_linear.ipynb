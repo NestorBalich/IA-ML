{
  "nbformat": 4,
  "nbformat_minor": 0,
  "metadata": {
    "colab": {
      "name": "SVM linear.ipynb",
      "provenance": [],
      "collapsed_sections": [
        "hhuAdqcjMfGR",
        "9QX9vWNOVFnF"
      ],
      "toc_visible": true
    },
    "kernelspec": {
      "name": "python3",
      "display_name": "Python 3"
    },
    "language_info": {
      "name": "python"
    }
  },
  "cells": [
    {
      "cell_type": "markdown",
      "source": [
        "---\n",
        "# <font color='blue'>Trabajo de investigación Doctorado UAI</font>\n",
        "---\n",
        "\n",
        "**Alumno:** Pablo Negro - Gonzalo Zabala - Néstor Balich\n"
      ],
      "metadata": {
        "id": "yT4pY8F7ziuH"
      }
    },
    {
      "cell_type": "markdown",
      "source": [
        "# <font color='blue'>¿Qué es Sklearn SVM?</font>"
      ],
      "metadata": {
        "id": "apndzJcjIPe1"
      }
    },
    {
      "cell_type": "markdown",
      "source": [
        "\n",
        "¿Qué es Sklearn SVM?\n",
        "\n",
        "Las clases sklearn. svm. ... NuSVC permiten crear modelos SVM de clasificación empleando kernel lineal, polinomial, radial o sigmoide. La diferencia es que SVC controla la regularización a través del hiperparámetro C , mientras que NuSVC lo hace con el número máximo de vectores soporte permitidos.\n",
        "\n",
        "Scikit-learn implementa Support Vector Machines para escenarios de clasificación en varias clases:\n",
        "\n",
        "sklearn.svm.SVC\n",
        "sklearn.svm.NuSVC\n",
        "sklearn.svm.LinearSVC\n",
        "\n",
        "SVC\n",
        "\n",
        "SVC es la clase principal ofrecida por Scikit-learn. Está implementada sobre la librería libsvm y la función de coste viene determinada por el parámetro C que ya hemos visto. El parámetro kernel especifica el tipo de kernel a usar. Las implementaciones nativas son \"linear\", \"poly\", \"rbf\" y \"sigmoid\". También es posible usar kernels desarrollados a medida.\n",
        "\n",
        "NuSVC\n",
        "\n",
        "En lugar de utilizar el parámetro C, NuSVC utiliza el parámetro nu que controla el número de vectores de soporte.\n",
        "\n",
        "LinearSVC\n",
        "\n",
        "Semejante a SVC con el parámetro kernel=\"linear\" (único kernel soportado). En lugar de estar implementado con libsvm, lo está con liblinear lo que supone más flexibilidad en la asignación de penalizaciones y funciones de coste. Según la documentación de Scikit-learn, esta implementación debería ofrecer mejor rendimiento que SVC cuando se trabaja con gran número de muestras.\n",
        "\n",
        "ref: \n",
        "https://www.cienciadedatos.net/documentos/py25-text-mining-python.html"
      ],
      "metadata": {
        "id": "JKYaSh-VVre-"
      }
    },
    {
      "cell_type": "markdown",
      "source": [
        "# <font color='blue'>Funciones</font>"
      ],
      "metadata": {
        "id": "h8UdEkbQIdWk"
      }
    },
    {
      "cell_type": "code",
      "metadata": {
        "id": "v-PW9FcHLqLR"
      },
      "source": [
        "def eval_and_print_metrics(clf, X_train, y_train, X_test, y_test):\n",
        "    print(\"Number of training samples:\", len(X_train))\n",
        "    print(\"Unlabeled samples in training set:\", sum(1 for x in y_train if x == -1))\n",
        "    clf.fit(X_train, y_train)\n",
        "    y_pred = clf.predict(X_test)\n",
        "    print(\n",
        "        \"F1 score on test set: %0.3f\"\n",
        "        % f1_score(y_test, y_pred, average=\"binary\")\n",
        "    )\n",
        "    print(\"Accuracy: \", accuracy_score(y_test, y_pred) )\n",
        "    print(\"Precision: \", precision_score(y_test, y_pred, average=\"binary\"))\n",
        "    print(\"Recall: \", recall_score(y_test, y_pred, average=\"binary\"))\n",
        "    print(\"-\" * 10)\n",
        "    print()\n",
        "    \n",
        "from sklearn.metrics import confusion_matrix\n",
        "def matriz_confusion(train, pred,title= \"Matriz de confusión\"):\n",
        "    import seaborn as sns\n",
        "    import matplotlib.pyplot as plt \n",
        "    cm = confusion_matrix(train, pred)\n",
        "\n",
        "    print(\"\\n\")\n",
        "    # plt.figure(figsize=(10,6))  \n",
        "    plt.rcParams.update({'font.size': 16})\n",
        "\n",
        "    fig, ax = plt.subplots(figsize=(8, 4))\n",
        "\n",
        "    # ax= plt.subplot()\n",
        "    sns.heatmap(cm, annot=True, ax = ax, fmt='g'); #annot=True to annotate cells\n",
        "\n",
        "   \n",
        "    # labels, title and ticks\n",
        "    ax.set_xlabel('Predicted');\n",
        "    ax.set_ylabel('Actual'); \n",
        "\n",
        "    ax.set_title(f'Confusion Matrix {title}'); \n",
        "    ax.xaxis.set_ticklabels([0, 1]); ax.yaxis.set_ticklabels([0, 1]);\n",
        "    fig.tight_layout()\n",
        "\n",
        "from sklearn.metrics import f1_score, accuracy_score, precision_score, recall_score,accuracy_score\n",
        "def metricas_modelo(Xtrain, Ytrain,train,pred, title=\"Metricas del modelo\",view=0):\n",
        "    matriz = confusion_matrix(train,pred )\n",
        "    exactitud = round(100*accuracy_score(train, pred),2)\n",
        "    precision = round(100*precision_score(train,pred),2)\n",
        "    sensibilidad = round(100*recall_score(train, pred),2)\n",
        "    puntaje = round(100*f1_score(train, pred),2)\n",
        "    error_clasificacion = round(100*(train != pred).mean(),2)\n",
        " \n",
        "\n",
        "    if view == 0 or view == 1:\n",
        "        print (\"\\n ********** \",title ,\" *************\")\n",
        "        print(\"\\nNumber of training samples:\", len(Xtrain))\n",
        "        print(\"Unlabeled samples in training set:\", sum(1 for x in Ytrain if x == -1))\n",
        "        \n",
        "        print(\"\\nNumber of test samples:\", len(train))\n",
        "        print(\"Unlabeled samples in training set:\", sum(1 for x in pred if x == -1))\n",
        "        print(f\"\\nClassifications true: {(train == pred).sum()}\")\n",
        "        print(f\"Classifications false: {(train != pred).sum()}\")\n",
        "        print(f\"Classifications error: {error_clasificacion}%\")\n",
        "        print(f\"\\nF1 score (Puntaje)   : {puntaje}%\")\n",
        "        print(f\"Accuracy (Exactitud) : {exactitud}%\")\n",
        "        print(f\"Precision (Precision): {precision}%\")\n",
        "        print(f\"Recall (Sensibilidad): {sensibilidad}%\")\n",
        "        # print(\"Matrix confusion: \\n\", matriz)\n",
        "    if view == 0 or view == 2:\n",
        "        matriz_confusion(train, pred,title)\n",
        "\n",
        "def limpiar_tokenizar(texto):\n",
        "    '''\n",
        "    Esta función limpia y tokeniza el texto en palabras individuales.\n",
        "    El orden en el que se va limpiando el texto no es arbitrario.\n",
        "    El listado de signos de puntuación se ha obtenido de: print(string.punctuation)\n",
        "    y re.escape(string.punctuation)\n",
        "    '''\n",
        "    \n",
        "    # Se convierte todo el texto a minúsculas\n",
        "    nuevo_texto = texto.lower()\n",
        "    # Eliminación de páginas web (palabras que empiezan por \"http\")\n",
        "    nuevo_texto = re.sub('http\\S+', ' ', nuevo_texto)\n",
        "    # Eliminación de signos de puntuación\n",
        "    regex = '[\\\\!\\\\\"\\\\#\\\\$\\\\%\\\\&\\\\\\'\\\\(\\\\)\\\\*\\\\+\\\\,\\\\-\\\\.\\\\/\\\\:\\\\;\\\\<\\\\=\\\\>\\\\?\\\\@\\\\[\\\\\\\\\\\\]\\\\^_\\\\`\\\\{\\\\|\\\\}\\\\~]'\n",
        "    nuevo_texto = re.sub(regex , ' ', nuevo_texto)\n",
        "    # Eliminación de números\n",
        "    nuevo_texto = re.sub(\"\\d+\", ' ', nuevo_texto)\n",
        "    # Eliminación de espacios en blanco múltiples\n",
        "    nuevo_texto = re.sub(\"\\\\s+\", ' ', nuevo_texto)\n",
        "    # Tokenización por palabras individuales\n",
        "    nuevo_texto = nuevo_texto.split(sep = ' ')\n",
        "    # Eliminación de tokens con una longitud < 2\n",
        "    nuevo_texto = [token for token in nuevo_texto if len(token) > 1]\n",
        "    \n",
        "    return(nuevo_texto)\n",
        "\n",
        "import re\n",
        "def get_only_chars(line):\n",
        "    clean_line = \"\"\n",
        "\n",
        "    line = line.replace(\"’\", \"\")\n",
        "    line = line.replace(\"'\", \"\")\n",
        "    line = line.replace(\"-\", \" \") #replace hyphens with spaces\n",
        "    line = line.replace(\"\\t\", \" \")\n",
        "    line = line.replace(\"\\n\", \" \")\n",
        "    line = line.lower()\n",
        "\n",
        "    for char in line:\n",
        "        if char in 'qwertyuiopasdfghjklzxcvbnm ':\n",
        "            clean_line += char\n",
        "        else:\n",
        "            clean_line += ' '\n",
        "\n",
        "    clean_line = re.sub(' +',' ',clean_line) #delete extra spaces\n",
        "    if clean_line[0] == ' ':\n",
        "        clean_line = clean_line[1:]\n",
        "    return clean_line"
      ],
      "execution_count": 7,
      "outputs": []
    },
    {
      "cell_type": "markdown",
      "source": [
        "# <font color='blue'>Lectura de los CSV</font>"
      ],
      "metadata": {
        "id": "SFWXYs9aQPfl"
      }
    },
    {
      "cell_type": "code",
      "metadata": {
        "colab": {
          "base_uri": "https://localhost:8080/"
        },
        "id": "-9iAwiaX3tb9",
        "outputId": "a5158292-d102-42c4-b613-73994f9c0362"
      },
      "source": [
        "# Tratamiento de datos\n",
        "# ==============================================================================\n",
        "import numpy as np\n",
        "import pandas as pd\n",
        "import string\n",
        "import re\n",
        "from nltk.corpus import stopwords\n",
        "import nltk\n",
        "nltk.download('stopwords')\n",
        "nltk.download('punkt')\n",
        "# Gráficos\n",
        "# ==============================================================================\n",
        "import matplotlib.pyplot as plt\n",
        "from matplotlib import style\n",
        "import seaborn as sns\n",
        "#style.use('ggplot') or plt.style.use('ggplot')\n",
        "\n",
        "# Preprocesado y modelado\n",
        "# ==============================================================================\n",
        "from sklearn import svm\n",
        "from sklearn.model_selection import train_test_split\n",
        "from sklearn.model_selection import GridSearchCV\n",
        "from sklearn.metrics import confusion_matrix\n",
        "from sklearn.feature_extraction.text import TfidfVectorizer\n",
        "\n",
        "# Configuración warnings\n",
        "# ==============================================================================\n",
        "import warnings\n",
        "warnings.filterwarnings('ignore')"
      ],
      "execution_count": 6,
      "outputs": [
        {
          "output_type": "stream",
          "name": "stdout",
          "text": [
            "[nltk_data] Downloading package stopwords to /root/nltk_data...\n",
            "[nltk_data]   Package stopwords is already up-to-date!\n",
            "[nltk_data] Downloading package punkt to /root/nltk_data...\n",
            "[nltk_data]   Package punkt is already up-to-date!\n"
          ]
        }
      ]
    },
    {
      "cell_type": "code",
      "metadata": {
        "id": "_96BLQDJ3SHy"
      },
      "source": [
        "import pandas as pd\n",
        "url = \"https://raw.githubusercontent.com/NestorBalich/IA-ML/main/dfscopus.csv\"\n",
        "data_original = pd.read_csv(url, encoding='latin-1', sep=',')\n",
        "\n",
        "url =\"https://raw.githubusercontent.com/NestorBalich/IA-ML/main/df1_lemati_norm.csv\"\n",
        "df1_lemati_norm= pd.read_csv(url, encoding='latin-1', sep=',')\n",
        "\n",
        "url =\"https://raw.githubusercontent.com/NestorBalich/IA-ML/main/df1_stemi_norm.csv\"\n",
        "df1_stemi_norm = pd.read_csv(url, encoding='latin-1', sep=',')\n",
        "\n",
        "url =\"https://raw.githubusercontent.com/NestorBalich/IA-ML/main/df1_cluster_lemati.csv\"\n",
        "cluster_lemati= pd.read_csv(url, encoding='latin-1', sep=',')\n",
        "\n",
        "url =\"https://raw.githubusercontent.com/NestorBalich/IA-ML/main/df1_cluster_stemi.csv\"\n",
        "cluster_stemi = pd.read_csv(url, encoding='latin-1', sep=',')\n"
      ],
      "execution_count": 4,
      "outputs": []
    },
    {
      "cell_type": "code",
      "metadata": {
        "id": "N9d0CaUUfJA0"
      },
      "source": [
        "import string\n",
        "import collections\n",
        " \n",
        "from nltk import word_tokenize\n",
        "from nltk.stem import PorterStemmer\n",
        "from nltk.corpus import stopwords\n",
        "from sklearn.cluster import KMeans\n",
        "from sklearn.feature_extraction.text import TfidfVectorizer\n",
        "from pprint import pprint\n",
        " \n",
        "def process_text(text, stem=True):\n",
        "    \"\"\" Tokenize text and stem words removing punctuation \"\"\"\n",
        "    #text = text.translate(None, string.punctuation)\n",
        "    tokens = word_tokenize(text)\n",
        " \n",
        "    if stem:\n",
        "        stemmer = PorterStemmer()\n",
        "        tokens = [stemmer.stem(t) for t in tokens]\n",
        " \n",
        "    return tokens\n",
        " \n",
        " \n",
        "def cluster_texts(texts, clusters=3):\n",
        "    \"\"\" Transform texts to Tf-Idf coordinates and cluster texts using K-Means \"\"\"\n",
        "    vectorizer = TfidfVectorizer(tokenizer=process_text,\n",
        "                                 stop_words=stopwords.words('english'),\n",
        "                                 max_df=0.5,\n",
        "                                 min_df=0.1,\n",
        "                                 lowercase=True)\n",
        " \n",
        "    tfidf_model = vectorizer.fit_transform(texts)\n",
        "    km_model = KMeans(n_clusters=clusters, random_state=42)\n",
        "    km_model.fit(tfidf_model)\n",
        " \n",
        "    clustering = collections.defaultdict(list)\n",
        " \n",
        "    for idx, label in enumerate(km_model.labels_):\n",
        "        clustering[label].append(idx)\n",
        " \n",
        "    return clustering"
      ],
      "execution_count": 5,
      "outputs": []
    },
    {
      "cell_type": "markdown",
      "source": [
        "# <font color='blue'>Separación de datos de entrenamiento y testeo</font>"
      ],
      "metadata": {
        "id": "6hbmDZIfQdrC"
      }
    },
    {
      "cell_type": "code",
      "metadata": {
        "id": "kdx3skdn2AoO"
      },
      "source": [
        "# trabajaremos sobre los mismos papers originales sin clusterización como linea base,\n",
        "#trae todos los datos de data_original cuyo doi coincide con cluster_estemi['doi']\n",
        "churn_df = data_original.merge(cluster_stemi['doi'], how='inner')\n",
        "\n",
        "# extraemos proporsion igual balanceando manualmente\n",
        "train_df =pd.concat([churn_df[churn_df['include?']==\"SI\"][0:30],churn_df[churn_df['include?']==\"NO\"][0:30]], axis=0 )\n",
        "\n",
        "\n",
        "dsEntrenamiento=pd.concat([cluster_stemi[cluster_stemi['include?']==1][0:30],cluster_stemi[cluster_stemi['include?']==0][0:30]], axis=0)\n",
        "dfSubset=dsEntrenamiento[[\"text_to_proc\", \"include?\"]]\n",
        "\n",
        "dfUnseen = cluster_stemi[~cluster_stemi.index.isin(dsEntrenamiento.index)]"
      ],
      "execution_count": 8,
      "outputs": []
    },
    {
      "cell_type": "code",
      "source": [
        "#merificamos propociones \n",
        "print(dfSubset.shape)\n",
        "dfSubset.groupby(\"include?\")[\"include?\"].count()"
      ],
      "metadata": {
        "colab": {
          "base_uri": "https://localhost:8080/"
        },
        "id": "6Xwo1aaOpfEL",
        "outputId": "7e0fed9b-dad1-4028-c0a0-c9d557e2c8ce"
      },
      "execution_count": 9,
      "outputs": [
        {
          "output_type": "stream",
          "name": "stdout",
          "text": [
            "(60, 2)\n"
          ]
        },
        {
          "output_type": "execute_result",
          "data": {
            "text/plain": [
              "include?\n",
              "0    30\n",
              "1    30\n",
              "Name: include?, dtype: int64"
            ]
          },
          "metadata": {},
          "execution_count": 9
        }
      ]
    },
    {
      "cell_type": "code",
      "source": [
        "print(dfUnseen.shape)\n",
        "dfUnseen.groupby(\"include?\")[\"include?\"].count()"
      ],
      "metadata": {
        "colab": {
          "base_uri": "https://localhost:8080/"
        },
        "id": "UHTmyYpIpUEB",
        "outputId": "50375c9b-4bf0-4543-bc5c-de9825fee739"
      },
      "execution_count": 10,
      "outputs": [
        {
          "output_type": "stream",
          "name": "stdout",
          "text": [
            "(146, 11)\n"
          ]
        },
        {
          "output_type": "execute_result",
          "data": {
            "text/plain": [
              "include?\n",
              "0    91\n",
              "1    55\n",
              "Name: include?, dtype: int64"
            ]
          },
          "metadata": {},
          "execution_count": 10
        }
      ]
    },
    {
      "cell_type": "markdown",
      "metadata": {
        "id": "-UfEqYEEybQX"
      },
      "source": [
        "Es importante verificar que la proporción de cada grupo es similar en el set de entrenamiento y en el de test."
      ]
    },
    {
      "cell_type": "code",
      "metadata": {
        "id": "uwHF9hyNS8ax",
        "colab": {
          "base_uri": "https://localhost:8080/",
          "height": 334
        },
        "outputId": "504df805-675c-4243-a3a7-50745cfa35bc"
      },
      "source": [
        "import matplotlib.pyplot as plt\n",
        "fig = plt.figure(figsize=(5,5))\n",
        "dfSubset.groupby('include?')['include?'].count().plot.bar(ylim=0)\n",
        "plt.xticks(rotation=0)\n",
        "plt.show()"
      ],
      "execution_count": 11,
      "outputs": [
        {
          "output_type": "display_data",
          "data": {
            "image/png": "[encoded data removed]",
            "text/plain": [
              "<Figure size 360x360 with 1 Axes>"
            ]
          },
          "metadata": {
            "needs_background": "light"
          }
        }
      ]
    },
    {
      "cell_type": "markdown",
      "metadata": {
        "id": "d_GE43Ynxw5s"
      },
      "source": [
        "# <font color='blue'>Entendiendo los datos</font>\n",
        "\n"
      ]
    },
    {
      "cell_type": "markdown",
      "metadata": {
        "id": "PQxcxYHtJFmN"
      },
      "source": [
        "## <font color='blue'>Limpieza y tokenizado </font>\n"
      ]
    },
    {
      "cell_type": "code",
      "source": [
        "# Se aplica la función de limpieza y tokenización a cada tweet\n",
        "# ==============================================================================\n",
        "dfSubset['texto_tokenizado'] = dfSubset['text_to_proc'].apply(lambda x: limpiar_tokenizar(x))\n",
        "dfSubset[['text_to_proc', 'texto_tokenizado']].head()"
      ],
      "metadata": {
        "id": "E8CsM0z85Vjx",
        "colab": {
          "base_uri": "https://localhost:8080/",
          "height": 206
        },
        "outputId": "45398ceb-8dce-4693-be51-259a8f8f1f1e"
      },
      "execution_count": 12,
      "outputs": [
        {
          "output_type": "execute_result",
          "data": {
            "text/html": [
              "<div>\n",
              "<style scoped>\n",
              "    .dataframe tbody tr th:only-of-type {\n",
              "        vertical-align: middle;\n",
              "    }\n",
              "\n",
              "    .dataframe tbody tr th {\n",
              "        vertical-align: top;\n",
              "    }\n",
              "\n",
              "    .dataframe thead th {\n",
              "        text-align: right;\n",
              "    }\n",
              "</style>\n",
              "<table border=\"1\" class=\"dataframe\">\n",
              "  <thead>\n",
              "    <tr style=\"text-align: right;\">\n",
              "      <th></th>\n",
              "      <th>text_to_proc</th>\n",
              "      <th>texto_tokenizado</th>\n",
              "    </tr>\n",
              "  </thead>\n",
              "  <tbody>\n",
              "    <tr>\n",
              "      <th>0</th>\n",
              "      <td>Burbaite R. lego nxt robotbas learn environ te...</td>\n",
              "      <td>[burbaite, lego, nxt, robotbas, learn, environ...</td>\n",
              "    </tr>\n",
              "    <tr>\n",
              "      <th>2</th>\n",
              "      <td>Horn M. tangibl interact learn case hybrid app...</td>\n",
              "      <td>[horn, tangibl, interact, learn, case, hybrid,...</td>\n",
              "    </tr>\n",
              "    <tr>\n",
              "      <th>7</th>\n",
              "      <td>Kwon D. algorithm brick tangibl robot program ...</td>\n",
              "      <td>[kwon, algorithm, brick, tangibl, robot, progr...</td>\n",
              "    </tr>\n",
              "    <tr>\n",
              "      <th>12</th>\n",
              "      <td>Mason R. mindstorm robot applic cognit load th...</td>\n",
              "      <td>[mason, mindstorm, robot, applic, cognit, load...</td>\n",
              "    </tr>\n",
              "    <tr>\n",
              "      <th>13</th>\n",
              "      <td>Touretzky D. robot comput scientist   big idea...</td>\n",
              "      <td>[touretzky, robot, comput, scientist, big, ide...</td>\n",
              "    </tr>\n",
              "  </tbody>\n",
              "</table>\n",
              "</div>"
            ],
            "text/plain": [
              "                                         text_to_proc                                   texto_tokenizado\n",
              "0   Burbaite R. lego nxt robotbas learn environ te...  [burbaite, lego, nxt, robotbas, learn, environ...\n",
              "2   Horn M. tangibl interact learn case hybrid app...  [horn, tangibl, interact, learn, case, hybrid,...\n",
              "7   Kwon D. algorithm brick tangibl robot program ...  [kwon, algorithm, brick, tangibl, robot, progr...\n",
              "12  Mason R. mindstorm robot applic cognit load th...  [mason, mindstorm, robot, applic, cognit, load...\n",
              "13  Touretzky D. robot comput scientist   big idea...  [touretzky, robot, comput, scientist, big, ide..."
            ]
          },
          "metadata": {},
          "execution_count": 12
        }
      ]
    },
    {
      "cell_type": "code",
      "source": [
        "# Unnest de la columna texto_tokenizado\n",
        "# ==============================================================================\n",
        "dfSubset_tidy = dfSubset.explode(column='texto_tokenizado')\n",
        "dfSubset_tidy = dfSubset_tidy.drop(columns='text_to_proc')\n",
        "dfSubset_tidy = dfSubset_tidy.rename(columns={'texto_tokenizado':'token'})\n",
        "dfSubset_tidy"
      ],
      "metadata": {
        "id": "08JPu7vm5mdD",
        "colab": {
          "base_uri": "https://localhost:8080/",
          "height": 424
        },
        "outputId": "3426d3a9-eb58-4966-f97c-438155a8b866"
      },
      "execution_count": 13,
      "outputs": [
        {
          "output_type": "execute_result",
          "data": {
            "text/html": [
              "<div>\n",
              "<style scoped>\n",
              "    .dataframe tbody tr th:only-of-type {\n",
              "        vertical-align: middle;\n",
              "    }\n",
              "\n",
              "    .dataframe tbody tr th {\n",
              "        vertical-align: top;\n",
              "    }\n",
              "\n",
              "    .dataframe thead th {\n",
              "        text-align: right;\n",
              "    }\n",
              "</style>\n",
              "<table border=\"1\" class=\"dataframe\">\n",
              "  <thead>\n",
              "    <tr style=\"text-align: right;\">\n",
              "      <th></th>\n",
              "      <th>include?</th>\n",
              "      <th>token</th>\n",
              "    </tr>\n",
              "  </thead>\n",
              "  <tbody>\n",
              "    <tr>\n",
              "      <th>0</th>\n",
              "      <td>1</td>\n",
              "      <td>burbaite</td>\n",
              "    </tr>\n",
              "    <tr>\n",
              "      <th>0</th>\n",
              "      <td>1</td>\n",
              "      <td>lego</td>\n",
              "    </tr>\n",
              "    <tr>\n",
              "      <th>0</th>\n",
              "      <td>1</td>\n",
              "      <td>nxt</td>\n",
              "    </tr>\n",
              "    <tr>\n",
              "      <th>0</th>\n",
              "      <td>1</td>\n",
              "      <td>robotbas</td>\n",
              "    </tr>\n",
              "    <tr>\n",
              "      <th>0</th>\n",
              "      <td>1</td>\n",
              "      <td>learn</td>\n",
              "    </tr>\n",
              "    <tr>\n",
              "      <th>...</th>\n",
              "      <td>...</td>\n",
              "      <td>...</td>\n",
              "    </tr>\n",
              "    <tr>\n",
              "      <th>43</th>\n",
              "      <td>0</td>\n",
              "      <td>practice</td>\n",
              "    </tr>\n",
              "    <tr>\n",
              "      <th>43</th>\n",
              "      <td>0</td>\n",
              "      <td>of</td>\n",
              "    </tr>\n",
              "    <tr>\n",
              "      <th>43</th>\n",
              "      <td>0</td>\n",
              "      <td>logic</td>\n",
              "    </tr>\n",
              "    <tr>\n",
              "      <th>43</th>\n",
              "      <td>0</td>\n",
              "      <td>programming</td>\n",
              "    </tr>\n",
              "    <tr>\n",
              "      <th>43</th>\n",
              "      <td>0</td>\n",
              "      <td>journal</td>\n",
              "    </tr>\n",
              "  </tbody>\n",
              "</table>\n",
              "<p>7192 rows × 2 columns</p>\n",
              "</div>"
            ],
            "text/plain": [
              "    include?        token\n",
              "0          1     burbaite\n",
              "0          1         lego\n",
              "0          1          nxt\n",
              "0          1     robotbas\n",
              "0          1        learn\n",
              "..       ...          ...\n",
              "43         0     practice\n",
              "43         0           of\n",
              "43         0        logic\n",
              "43         0  programming\n",
              "43         0      journal\n",
              "\n",
              "[7192 rows x 2 columns]"
            ]
          },
          "metadata": {},
          "execution_count": 13
        }
      ]
    },
    {
      "cell_type": "markdown",
      "source": [
        "## <font color='blue'>Palabras totales por include</font>"
      ],
      "metadata": {
        "id": "XnJEj54GNUG6"
      }
    },
    {
      "cell_type": "code",
      "source": [
        "# Palabras totales utilizadas por cada include?\n",
        "# ==============================================================================\n",
        "print('--------------------------')\n",
        "print('Palabras totales por include?')\n",
        "print('--------------------------')\n",
        "dfSubset_tidy.groupby(by='include?')['token'].count()"
      ],
      "metadata": {
        "id": "zOceyuGG6BcA",
        "colab": {
          "base_uri": "https://localhost:8080/"
        },
        "outputId": "3ca50eda-d35d-4768-8385-2b21cab4c15e"
      },
      "execution_count": 14,
      "outputs": [
        {
          "output_type": "stream",
          "name": "stdout",
          "text": [
            "--------------------------\n",
            "Palabras totales por include?\n",
            "--------------------------\n"
          ]
        },
        {
          "output_type": "execute_result",
          "data": {
            "text/plain": [
              "include?\n",
              "0    3823\n",
              "1    3369\n",
              "Name: token, dtype: int64"
            ]
          },
          "metadata": {},
          "execution_count": 14
        }
      ]
    },
    {
      "cell_type": "markdown",
      "source": [
        "## <font color='blue'>Palabras distintas por include</font>"
      ],
      "metadata": {
        "id": "bA7Np_j4Nd8_"
      }
    },
    {
      "cell_type": "code",
      "source": [
        "# Palabras distintas utilizadas por cada include?\n",
        "# ==============================================================================\n",
        "print('----------------------------')\n",
        "print('Palabras distintas por include?')\n",
        "print('----------------------------')\n",
        "dfSubset_tidy.groupby(by='include?')['token'].nunique()"
      ],
      "metadata": {
        "id": "lK3cwyu26PS_",
        "colab": {
          "base_uri": "https://localhost:8080/"
        },
        "outputId": "e55beb31-862d-413f-9dcf-a09c0c0796cd"
      },
      "execution_count": 15,
      "outputs": [
        {
          "output_type": "stream",
          "name": "stdout",
          "text": [
            "----------------------------\n",
            "Palabras distintas por include?\n",
            "----------------------------\n"
          ]
        },
        {
          "output_type": "execute_result",
          "data": {
            "text/plain": [
              "include?\n",
              "0    1322\n",
              "1    1028\n",
              "Name: token, dtype: int64"
            ]
          },
          "metadata": {},
          "execution_count": 15
        }
      ]
    },
    {
      "cell_type": "markdown",
      "source": [
        "## <font color='blue'>Top 5 palabras más utilizadas por cada include</font>"
      ],
      "metadata": {
        "id": "Qdx8mnQhNnk0"
      }
    },
    {
      "cell_type": "code",
      "source": [
        "# Top 5 palabras más utilizadas por cada include?\n",
        "# ==============================================================================\n",
        "dfSubset_tidy.groupby(['include?','token'])['token'] \\\n",
        " .count() \\\n",
        " .reset_index(name='count') \\\n",
        " .groupby('include?') \\\n",
        " .apply(lambda x: x.sort_values('count', ascending=False).head(5))"
      ],
      "metadata": {
        "id": "BVqI-d0Y6dTZ",
        "colab": {
          "base_uri": "https://localhost:8080/",
          "height": 394
        },
        "outputId": "e9738f2f-a7bb-41d7-c1a3-26e124b90be6"
      },
      "execution_count": 16,
      "outputs": [
        {
          "output_type": "execute_result",
          "data": {
            "text/html": [
              "<div>\n",
              "<style scoped>\n",
              "    .dataframe tbody tr th:only-of-type {\n",
              "        vertical-align: middle;\n",
              "    }\n",
              "\n",
              "    .dataframe tbody tr th {\n",
              "        vertical-align: top;\n",
              "    }\n",
              "\n",
              "    .dataframe thead th {\n",
              "        text-align: right;\n",
              "    }\n",
              "</style>\n",
              "<table border=\"1\" class=\"dataframe\">\n",
              "  <thead>\n",
              "    <tr style=\"text-align: right;\">\n",
              "      <th></th>\n",
              "      <th></th>\n",
              "      <th>include?</th>\n",
              "      <th>token</th>\n",
              "      <th>count</th>\n",
              "    </tr>\n",
              "    <tr>\n",
              "      <th>include?</th>\n",
              "      <th></th>\n",
              "      <th></th>\n",
              "      <th></th>\n",
              "      <th></th>\n",
              "    </tr>\n",
              "  </thead>\n",
              "  <tbody>\n",
              "    <tr>\n",
              "      <th rowspan=\"5\" valign=\"top\">0</th>\n",
              "      <th>1152</th>\n",
              "      <td>0</td>\n",
              "      <td>system</td>\n",
              "      <td>58</td>\n",
              "    </tr>\n",
              "    <tr>\n",
              "      <th>937</th>\n",
              "      <td>0</td>\n",
              "      <td>program</td>\n",
              "      <td>55</td>\n",
              "    </tr>\n",
              "    <tr>\n",
              "      <th>1133</th>\n",
              "      <td>0</td>\n",
              "      <td>student</td>\n",
              "      <td>53</td>\n",
              "    </tr>\n",
              "    <tr>\n",
              "      <th>310</th>\n",
              "      <td>0</td>\n",
              "      <td>develop</td>\n",
              "      <td>47</td>\n",
              "    </tr>\n",
              "    <tr>\n",
              "      <th>1250</th>\n",
              "      <td>0</td>\n",
              "      <td>use</td>\n",
              "      <td>45</td>\n",
              "    </tr>\n",
              "    <tr>\n",
              "      <th rowspan=\"5\" valign=\"top\">1</th>\n",
              "      <th>2041</th>\n",
              "      <td>1</td>\n",
              "      <td>program</td>\n",
              "      <td>132</td>\n",
              "    </tr>\n",
              "    <tr>\n",
              "      <th>2108</th>\n",
              "      <td>1</td>\n",
              "      <td>robot</td>\n",
              "      <td>124</td>\n",
              "    </tr>\n",
              "    <tr>\n",
              "      <th>2300</th>\n",
              "      <td>1</td>\n",
              "      <td>use</td>\n",
              "      <td>56</td>\n",
              "    </tr>\n",
              "    <tr>\n",
              "      <th>2194</th>\n",
              "      <td>1</td>\n",
              "      <td>student</td>\n",
              "      <td>53</td>\n",
              "    </tr>\n",
              "    <tr>\n",
              "      <th>1843</th>\n",
              "      <td>1</td>\n",
              "      <td>learn</td>\n",
              "      <td>46</td>\n",
              "    </tr>\n",
              "  </tbody>\n",
              "</table>\n",
              "</div>"
            ],
            "text/plain": [
              "               include?    token  count\n",
              "include?                               \n",
              "0        1152         0   system     58\n",
              "         937          0  program     55\n",
              "         1133         0  student     53\n",
              "         310          0  develop     47\n",
              "         1250         0      use     45\n",
              "1        2041         1  program    132\n",
              "         2108         1    robot    124\n",
              "         2300         1      use     56\n",
              "         2194         1  student     53\n",
              "         1843         1    learn     46"
            ]
          },
          "metadata": {},
          "execution_count": 16
        }
      ]
    },
    {
      "cell_type": "code",
      "source": [
        "# Obtención de listado de stopwords del inglés\n",
        "# ==============================================================================\n",
        "stop_words = list(stopwords.words('english'))\n",
        "# Se añade la stoprword: amp, ax, ex\n",
        "# stop_words.extend((\"amp\", \"xa\", \"xe\"))\n",
        "print(stop_words[:10])"
      ],
      "metadata": {
        "id": "bfC_HRJP7TEi",
        "colab": {
          "base_uri": "https://localhost:8080/"
        },
        "outputId": "ed494a30-7a29-483f-b4ee-6ace3522b706"
      },
      "execution_count": 17,
      "outputs": [
        {
          "output_type": "stream",
          "name": "stdout",
          "text": [
            "['i', 'me', 'my', 'myself', 'we', 'our', 'ours', 'ourselves', 'you', \"you're\"]\n"
          ]
        }
      ]
    },
    {
      "cell_type": "code",
      "source": [
        "# Filtrado para excluir stopwords\n",
        "# ==============================================================================\n",
        "dfSubset_tidy = dfSubset_tidy[~(dfSubset_tidy[\"token\"].isin(stop_words))]"
      ],
      "metadata": {
        "id": "ijItmIRT7aqo"
      },
      "execution_count": 18,
      "outputs": []
    },
    {
      "cell_type": "code",
      "source": [
        "# Top 10 palabras por include\n",
        "# ==============================================================================\n",
        "fig, axs = plt.subplots(nrows=2, ncols=1,figsize=(6, 7))\n",
        "for i, include in enumerate(dfSubset_tidy['include?'].unique()):\n",
        "    df_temp = dfSubset_tidy[dfSubset_tidy['include?'] == include]\n",
        "    counts  = df_temp['token'].value_counts(ascending=False).head(10)\n",
        "    counts.plot(kind='barh', color='firebrick', ax=axs[i])\n",
        "    axs[i].invert_yaxis()\n",
        "    axs[i].set_title(include)\n",
        "\n",
        "fig.tight_layout()"
      ],
      "metadata": {
        "id": "cisl533d4iyU",
        "colab": {
          "base_uri": "https://localhost:8080/",
          "height": 513
        },
        "outputId": "69ff64a3-dbad-42a4-ca6a-9c16fe5fb549"
      },
      "execution_count": 19,
      "outputs": [
        {
          "output_type": "display_data",
          "data": {
            "image/png": "[encoded data removed]",
            "text/plain": [
              "<Figure size 432x504 with 2 Axes>"
            ]
          },
          "metadata": {
            "needs_background": "light"
          }
        }
      ]
    },
    {
      "cell_type": "markdown",
      "source": [
        "## <font color='blue'>Gráfico de correlación palabras / include</font>"
      ],
      "metadata": {
        "id": "Dd_tC6thN5Yw"
      }
    },
    {
      "cell_type": "code",
      "source": [
        "# Pivotado de datos correlacion entre includes\n",
        "# ==============================================================================\n",
        "dfSubset_pivot = dfSubset_tidy.groupby([\"include?\",\"token\"])[\"token\"] \\\n",
        "                .agg([\"count\"]).reset_index() \\\n",
        "                .pivot(index = \"token\" , columns=\"include?\", values= \"count\")\n",
        "dfSubset_pivot.columns.name = None"
      ],
      "metadata": {
        "id": "VZ9rFhyw8DEb"
      },
      "execution_count": 20,
      "outputs": []
    },
    {
      "cell_type": "markdown",
      "source": [
        "Una forma de cuantificar la similitud entre los include es calculando la correlación en el uso de palabras.La idea es que, si dos categorias escriben de forma similar, tenderán a utilizar las mismas palabras y con frecuencias similares. La medida de similitud más utilizada al trabajar con texto es 1 - distancia coseno."
      ],
      "metadata": {
        "id": "4Jt_gSmQ9PoV"
      }
    },
    {
      "cell_type": "code",
      "source": [
        "# Test de correlación (coseno) por el uso y frecuencia de palabras\n",
        "# ==============================================================================\n",
        "from scipy.spatial.distance import cosine\n",
        "\n",
        "def similitud_coseno(a,b):\n",
        "    distancia = cosine(a,b)\n",
        "    return 1-distancia\n",
        "\n",
        "dfSubset_pivot.corr(method=similitud_coseno)"
      ],
      "metadata": {
        "id": "KFf6g78P9Iqg",
        "colab": {
          "base_uri": "https://localhost:8080/",
          "height": 112
        },
        "outputId": "ff3e7943-fba8-452a-e943-f4f80ba7e408"
      },
      "execution_count": 21,
      "outputs": [
        {
          "output_type": "execute_result",
          "data": {
            "text/html": [
              "<div>\n",
              "<style scoped>\n",
              "    .dataframe tbody tr th:only-of-type {\n",
              "        vertical-align: middle;\n",
              "    }\n",
              "\n",
              "    .dataframe tbody tr th {\n",
              "        vertical-align: top;\n",
              "    }\n",
              "\n",
              "    .dataframe thead th {\n",
              "        text-align: right;\n",
              "    }\n",
              "</style>\n",
              "<table border=\"1\" class=\"dataframe\">\n",
              "  <thead>\n",
              "    <tr style=\"text-align: right;\">\n",
              "      <th></th>\n",
              "      <th>0</th>\n",
              "      <th>1</th>\n",
              "    </tr>\n",
              "  </thead>\n",
              "  <tbody>\n",
              "    <tr>\n",
              "      <th>0</th>\n",
              "      <td>1.000000</td>\n",
              "      <td>0.766495</td>\n",
              "    </tr>\n",
              "    <tr>\n",
              "      <th>1</th>\n",
              "      <td>0.766495</td>\n",
              "      <td>1.000000</td>\n",
              "    </tr>\n",
              "  </tbody>\n",
              "</table>\n",
              "</div>"
            ],
            "text/plain": [
              "          0         1\n",
              "0  1.000000  0.766495\n",
              "1  0.766495  1.000000"
            ]
          },
          "metadata": {},
          "execution_count": 21
        }
      ]
    },
    {
      "cell_type": "code",
      "source": [
        "dfSubset_pivot[0]"
      ],
      "metadata": {
        "id": "OBb7GyMy9wWB",
        "colab": {
          "base_uri": "https://localhost:8080/"
        },
        "outputId": "fa2d3503-2fe5-4dcf-fe1f-016446103818"
      },
      "execution_count": 22,
      "outputs": [
        {
          "output_type": "execute_result",
          "data": {
            "text/plain": [
              "token\n",
              "abil               2.0\n",
              "abl                2.0\n",
              "aboard             NaN\n",
              "abroad             NaN\n",
              "abstract           3.0\n",
              "                  ... \n",
              "zoo                NaN\n",
              "zr                 NaN\n",
              "zum                2.0\n",
              "zunehmenden        1.0\n",
              "zusammenfassung    1.0\n",
              "Name: 0, Length: 1798, dtype: float64"
            ]
          },
          "metadata": {},
          "execution_count": 22
        }
      ]
    },
    {
      "cell_type": "code",
      "source": [
        "# Gráfico de correlación\n",
        "# ==============================================================================\n",
        "f, ax = plt.subplots(figsize=(20, 15))\n",
        "temp = dfSubset_pivot.dropna()\n",
        "sns.regplot(\n",
        "    x  = np.log(temp[0]),\n",
        "    y  = np.log(temp[1]),\n",
        "    scatter_kws =  {'alpha': 0.05},\n",
        "    ax = ax\n",
        ")\n",
        "for i in np.random.choice(range(temp.shape[0]), 100):\n",
        "    ax.annotate(temp.index[i],\n",
        "        xy=(np.log(temp[0][i]), np.log(temp[1][i])),\n",
        "        alpha = 0.7\n",
        "    )\n"
      ],
      "metadata": {
        "id": "jXi0yIUf9kuq",
        "colab": {
          "base_uri": "https://localhost:8080/",
          "height": 877
        },
        "outputId": "7aca6369-c3a6-49b3-fd32-5802af628909"
      },
      "execution_count": 23,
      "outputs": [
        {
          "output_type": "display_data",
          "data": {
            "image/png": "[encoded data removed]",
            "text/plain": [
              "<Figure size 1440x1080 with 1 Axes>"
            ]
          },
          "metadata": {
            "needs_background": "light"
          }
        }
      ]
    },
    {
      "cell_type": "markdown",
      "source": [
        "## <font color='blue'>Palabras comunes entre los include</font>"
      ],
      "metadata": {
        "id": "42CX0SL3OLvU"
      }
    },
    {
      "cell_type": "code",
      "source": [
        "# Número de palabras comunes\n",
        "# ==============================================================================\n",
        "include_0 = set(dfSubset_tidy[dfSubset_tidy['include?'] == 0]['token'])\n",
        "include_1 = set(dfSubset_tidy[dfSubset_tidy['include?'] == 1]['token'])\n",
        "\n",
        "print(f\"Palabras comunes entre include=0 y include=1: {len(include_1.intersection(include_0))}\")"
      ],
      "metadata": {
        "id": "tuiW-TEJE-ch",
        "colab": {
          "base_uri": "https://localhost:8080/"
        },
        "outputId": "a3a79d19-0b8e-4344-f62d-034013083c3e"
      },
      "execution_count": 24,
      "outputs": [
        {
          "output_type": "stream",
          "name": "stdout",
          "text": [
            "Palabras comunes entre include=0 y include=1: 525\n"
          ]
        }
      ]
    },
    {
      "cell_type": "markdown",
      "source": [
        "## <font color='blue'>Palabras diferenciadoras entre los include</font>"
      ],
      "metadata": {
        "id": "N95s5XI2OuN9"
      }
    },
    {
      "cell_type": "code",
      "source": [
        "# Cálculo del log of odds ratio de cada palabra por include\n",
        "# ==============================================================================\n",
        "# Pivotaje y despivotaje\n",
        "dfSubset_pivot = dfSubset_tidy.groupby([\"include?\",\"token\"])[\"token\"] \\\n",
        "                .agg([\"count\"]).reset_index() \\\n",
        "                .pivot(index = \"token\" , columns=\"include?\", values= \"count\")\n",
        "\n",
        "dfSubset_pivot = dfSubset_pivot.fillna(value=0)\n",
        "dfSubset_pivot.columns.name = None\n",
        "\n",
        "dfSubset_unpivot = dfSubset_pivot.melt(value_name='n', var_name='include?', ignore_index=False)\n",
        "dfSubset_unpivot = dfSubset_unpivot.reset_index()\n",
        "\n",
        "# Selección de los autores elonmusk y mayoredlee\n",
        "dfSubset_unpivot = dfSubset_unpivot[dfSubset_unpivot[\"include?\"].isin([0, 1])]\n",
        "\n",
        "# Se añade el total de palabras de cada autor\n",
        "dfSubset_unpivot = dfSubset_unpivot.merge(\n",
        "                    dfSubset_tidy.groupby('include?')['token'].count().rename('N'),\n",
        "                    how = 'left',\n",
        "                    on  = 'include?'\n",
        "                 )\n",
        "\n",
        "# Cálculo de odds y log of odds de cada palabra\n",
        "dfSubset_logOdds = dfSubset_unpivot.copy()\n",
        "dfSubset_logOdds['odds'] = (dfSubset_logOdds.n + 1) / (dfSubset_logOdds.N + 1)\n",
        "dfSubset_logOdds = dfSubset_logOdds[['token', 'include?', 'odds']] \\\n",
        "                    .pivot(index='token', columns='include?', values='odds')\n",
        "dfSubset_logOdds.columns.name = None\n",
        "\n",
        "dfSubset_logOdds['log_odds']     = np.log(dfSubset_logOdds[0]/dfSubset_logOdds[1])\n",
        "dfSubset_logOdds['abs_log_odds'] = np.abs(dfSubset_logOdds.log_odds)\n",
        "\n",
        "# Si el logaritmo de odds es mayor que cero, significa que es una palabra con\n",
        "# mayor probabilidad de ser de Elon Musk. Esto es así porque el ratio sea ha\n",
        "# calculado como elonmusk/mayoredlee.\n",
        "dfSubset_logOdds['include_frecuente'] = np.where(dfSubset_logOdds.log_odds > 0,\n",
        "                                              0,\n",
        "                                              1\n",
        "                                    )"
      ],
      "metadata": {
        "id": "gLRa278SF9Tc"
      },
      "execution_count": 25,
      "outputs": []
    },
    {
      "cell_type": "code",
      "source": [
        "print('-----------------------------------')\n",
        "print('Top 10 palabras más diferenciadoras')\n",
        "print('-----------------------------------')\n",
        "dfSubset_logOdds.sort_values('abs_log_odds', ascending=False).head(150)"
      ],
      "metadata": {
        "id": "c46CAf4_H7vA",
        "colab": {
          "base_uri": "https://localhost:8080/",
          "height": 507
        },
        "outputId": "4310727d-a94e-4b57-8838-ac73d6c86026"
      },
      "execution_count": 26,
      "outputs": [
        {
          "output_type": "stream",
          "name": "stdout",
          "text": [
            "-----------------------------------\n",
            "Top 10 palabras más diferenciadoras\n",
            "-----------------------------------\n"
          ]
        },
        {
          "output_type": "execute_result",
          "data": {
            "text/html": [
              "<div>\n",
              "<style scoped>\n",
              "    .dataframe tbody tr th:only-of-type {\n",
              "        vertical-align: middle;\n",
              "    }\n",
              "\n",
              "    .dataframe tbody tr th {\n",
              "        vertical-align: top;\n",
              "    }\n",
              "\n",
              "    .dataframe thead th {\n",
              "        text-align: right;\n",
              "    }\n",
              "</style>\n",
              "<table border=\"1\" class=\"dataframe\">\n",
              "  <thead>\n",
              "    <tr style=\"text-align: right;\">\n",
              "      <th></th>\n",
              "      <th>0</th>\n",
              "      <th>1</th>\n",
              "      <th>log_odds</th>\n",
              "      <th>abs_log_odds</th>\n",
              "      <th>include_frecuente</th>\n",
              "    </tr>\n",
              "    <tr>\n",
              "      <th>token</th>\n",
              "      <th></th>\n",
              "      <th></th>\n",
              "      <th></th>\n",
              "      <th></th>\n",
              "      <th></th>\n",
              "    </tr>\n",
              "  </thead>\n",
              "  <tbody>\n",
              "    <tr>\n",
              "      <th>tangibl</th>\n",
              "      <td>0.000266</td>\n",
              "      <td>0.008424</td>\n",
              "      <td>-3.454390</td>\n",
              "      <td>3.454390</td>\n",
              "      <td>1</td>\n",
              "    </tr>\n",
              "    <tr>\n",
              "      <th>children</th>\n",
              "      <td>0.000532</td>\n",
              "      <td>0.011131</td>\n",
              "      <td>-3.039956</td>\n",
              "      <td>3.039956</td>\n",
              "      <td>1</td>\n",
              "    </tr>\n",
              "    <tr>\n",
              "      <th>weld</th>\n",
              "      <td>0.005857</td>\n",
              "      <td>0.000301</td>\n",
              "      <td>2.968857</td>\n",
              "      <td>2.968857</td>\n",
              "      <td>0</td>\n",
              "    </tr>\n",
              "    <tr>\n",
              "      <th>collabor</th>\n",
              "      <td>0.000266</td>\n",
              "      <td>0.004212</td>\n",
              "      <td>-2.761243</td>\n",
              "      <td>2.761243</td>\n",
              "      <td>1</td>\n",
              "    </tr>\n",
              "    <tr>\n",
              "      <th>childhood</th>\n",
              "      <td>0.000266</td>\n",
              "      <td>0.003911</td>\n",
              "      <td>-2.687135</td>\n",
              "      <td>2.687135</td>\n",
              "      <td>1</td>\n",
              "    </tr>\n",
              "    <tr>\n",
              "      <th>...</th>\n",
              "      <td>...</td>\n",
              "      <td>...</td>\n",
              "      <td>...</td>\n",
              "      <td>...</td>\n",
              "      <td>...</td>\n",
              "    </tr>\n",
              "    <tr>\n",
              "      <th>compil</th>\n",
              "      <td>0.001065</td>\n",
              "      <td>0.000301</td>\n",
              "      <td>1.264109</td>\n",
              "      <td>1.264109</td>\n",
              "      <td>0</td>\n",
              "    </tr>\n",
              "    <tr>\n",
              "      <th>ni</th>\n",
              "      <td>0.001065</td>\n",
              "      <td>0.000301</td>\n",
              "      <td>1.264109</td>\n",
              "      <td>1.264109</td>\n",
              "      <td>0</td>\n",
              "    </tr>\n",
              "    <tr>\n",
              "      <th>author</th>\n",
              "      <td>0.001065</td>\n",
              "      <td>0.000301</td>\n",
              "      <td>1.264109</td>\n",
              "      <td>1.264109</td>\n",
              "      <td>0</td>\n",
              "    </tr>\n",
              "    <tr>\n",
              "      <th>analyt</th>\n",
              "      <td>0.001065</td>\n",
              "      <td>0.000301</td>\n",
              "      <td>1.264109</td>\n",
              "      <td>1.264109</td>\n",
              "      <td>0</td>\n",
              "    </tr>\n",
              "    <tr>\n",
              "      <th>maker</th>\n",
              "      <td>0.001065</td>\n",
              "      <td>0.000301</td>\n",
              "      <td>1.264109</td>\n",
              "      <td>1.264109</td>\n",
              "      <td>0</td>\n",
              "    </tr>\n",
              "  </tbody>\n",
              "</table>\n",
              "<p>150 rows × 5 columns</p>\n",
              "</div>"
            ],
            "text/plain": [
              "                  0         1  log_odds  abs_log_odds  include_frecuente\n",
              "token                                                                   \n",
              "tangibl    0.000266  0.008424 -3.454390      3.454390                  1\n",
              "children   0.000532  0.011131 -3.039956      3.039956                  1\n",
              "weld       0.005857  0.000301  2.968857      2.968857                  0\n",
              "collabor   0.000266  0.004212 -2.761243      2.761243                  1\n",
              "childhood  0.000266  0.003911 -2.687135      2.687135                  1\n",
              "...             ...       ...       ...           ...                ...\n",
              "compil     0.001065  0.000301  1.264109      1.264109                  0\n",
              "ni         0.001065  0.000301  1.264109      1.264109                  0\n",
              "author     0.001065  0.000301  1.264109      1.264109                  0\n",
              "analyt     0.001065  0.000301  1.264109      1.264109                  0\n",
              "maker      0.001065  0.000301  1.264109      1.264109                  0\n",
              "\n",
              "[150 rows x 5 columns]"
            ]
          },
          "metadata": {},
          "execution_count": 26
        }
      ]
    },
    {
      "cell_type": "markdown",
      "source": [
        "## <font color='blue'>Top 100 palabras más características por include</font>"
      ],
      "metadata": {
        "id": "IOgVtCNtO1nh"
      }
    },
    {
      "cell_type": "code",
      "source": [
        "# Top 100 palabras más características por include\n",
        "# ==============================================================================\n",
        "\n",
        "top_ = dfSubset_logOdds[['log_odds', 'abs_log_odds', 'include_frecuente']] \\\n",
        "        .groupby('include_frecuente') \\\n",
        "        .apply(lambda x: x.nlargest(100, columns='abs_log_odds').reset_index()) \\\n",
        "        .reset_index(drop=True) \\\n",
        "        .sort_values('log_odds')\n",
        "\n",
        "f, ax = plt.subplots(figsize=(7, 50))\n",
        "sns.barplot(\n",
        "    x    = 'log_odds',\n",
        "    y    = 'token',\n",
        "    hue  = 'include_frecuente',\n",
        "    data = top_,\n",
        "    ax   = ax\n",
        ")\n",
        "ax.set_title('Top palabras más características por include')\n",
        "ax.set_xlabel('log odds ratio ( 0 / 1)');"
      ],
      "metadata": {
        "id": "otMgixR5JdDU",
        "colab": {
          "base_uri": "https://localhost:8080/",
          "height": 1000
        },
        "outputId": "cb0193cd-b0c2-4a58-f7a3-18f8c750b89f"
      },
      "execution_count": 27,
      "outputs": [
        {
          "output_type": "display_data",
          "data": {
            "image/png": "[encoded data removed]",
            "text/plain": [
              "<Figure size 504x3600 with 1 Axes>"
            ]
          },
          "metadata": {
            "needs_background": "light"
          }
        }
      ]
    },
    {
      "cell_type": "markdown",
      "source": [
        "# <font color='blue'>Aplicación del modelo</font>"
      ],
      "metadata": {
        "id": "UJjkWyleQ2E9"
      }
    },
    {
      "cell_type": "markdown",
      "source": [
        "## <font color='blue'>Estratificación de datos y vectorización TF-IDF</font>"
      ],
      "metadata": {
        "id": "hhuAdqcjMfGR"
      }
    },
    {
      "cell_type": "code",
      "metadata": {
        "id": "4aH4A-w70WM7"
      },
      "source": [
        "# X_train, X_test, y_train, y_test = train_test_split(dfSubset['text_to_proc'], dfSubset['include?'], random_state = 42)\n",
        "\n",
        "# Reparto train y test\n",
        "# ==============================================================================\n",
        "datos_X = dfSubset['text_to_proc']\n",
        "datos_y = dfSubset['include?']\n",
        "\n",
        "X_train, X_test, y_train, y_test = train_test_split(\n",
        "    datos_X,\n",
        "    datos_y,\n",
        "    test_size = 0.2,\n",
        "    random_state = 42,\n",
        "    stratify=dfSubset['include?']\n",
        ")"
      ],
      "execution_count": 28,
      "outputs": []
    },
    {
      "cell_type": "code",
      "source": [
        "X_train.head"
      ],
      "metadata": {
        "id": "41_MjXrUYEh5",
        "colab": {
          "base_uri": "https://localhost:8080/"
        },
        "outputId": "8f7faa4a-d3c7-41e0-e0f3-c002242fc421"
      },
      "execution_count": 29,
      "outputs": [
        {
          "output_type": "execute_result",
          "data": {
            "text/plain": [
              "<bound method NDFrame.head of 2     Horn M. tangibl interact learn case hybrid app...\n",
              "6     Mattmann C. middlewar platform provid mobil em...\n",
              "11    RodrÃÂ­guez-ResÃÂ©ndiz J. approach motion co...\n",
              "39    Strawhacker A. i want robot look food compar k...\n",
              "12    Mason R. mindstorm robot applic cognit load th...\n",
              "35    BilÃÂ©n S.G. softwaredefin radio new paradigm...\n",
              "72    Chen G. assess elementari student comput think...\n",
              "82    Athanasiou L. use robot introductori program e...\n",
              "43    Blackmore C. logic program approach predict ef...\n",
              "25    Cielniak G. integr mobil robot vision undergra...\n",
              "64    Al-Halhouli A. lego mindstorm nxt elder visual...\n",
              "74    Merkouris A. teach program secondari educ embo...\n",
              "41    Stoppe J. analyz system design system analysi ...\n",
              "38    Fuge M. mechprocessor help novic design printa...\n",
              "37    Palumbo E. creation integr environ suppli lear...\n",
              "5     Pinto M. local mobil robot use extend salman f...\n",
              "19    Mysorewala M. projectbas strategi teach robot ...\n",
              "0     Burbaite R. lego nxt robotbas learn environ te...\n",
              "78    Mondada F. bring robot formal educ thymio open...\n",
              "7     Kwon D. algorithm brick tangibl robot program ...\n",
              "8     Yuventi J. analyt learn robot internet learn c...\n",
              "18    Diaz L. action toward applic intellig system c...\n",
              "33    Warner J.A. learn computeres role second langu...\n",
              "66    Dos Santos Lopes M.S. web environ program cont...\n",
              "28    Zhang G. semant mapreduc parallel program mode...\n",
              "31    Danahy E. legobas robot higher educ   year stu...\n",
              "65    Mariappan M. earli childhood educ robot system...\n",
              "16    Apsley J. autonom linefollow robot project tra...\n",
              "34    Kalantzopoulos A. onlin laboratori session sys...\n",
              "32    Plauska I. reflect use robot visual program en...\n",
              "58    Sullivan A. robot earli childhood classroom le...\n",
              "21    Flannery L. let danc robot hokeypokey   childr...\n",
              "1     Laverty D. embed c program practic cours intro...\n",
              "17    Barakova E. endus program architectur facilit ...\n",
              "4     Pagliarini L. educ tool interact parallel dist...\n",
              "40    Ramirez-Benavides K. modebot environ program r...\n",
              "22    Collier G. technologycentr teach method introd...\n",
              "14    Larraza-Mendiluze E. gameconsolebas project le...\n",
              "24    Gonzalez J. use videogam devic motiv learn emb...\n",
              "27    Vilajosana X. arp remot experi real embed syst...\n",
              "61    RamÃÂ­rez-Benavides K. mobil applic allow chi...\n",
              "73    Balaguer Alvarez I.J. introduct robot import s...\n",
              "3     Kirsch A. integr program learn control languag...\n",
              "20    Valero-GÃÂ³mez A. new paradigm open robot res...\n",
              "76    Barros R.P. cardbotassist technolog visual imp...\n",
              "36    Ã\n",
              "Â tuikys V. refactor heterogen metaprogram s...\n",
              "13    Touretzky D. robot comput scientist   big idea...\n",
              "42    Khan S. accumul experi vast number case enacti...\n",
              "Name: text_to_proc, dtype: object>"
            ]
          },
          "metadata": {},
          "execution_count": 29
        }
      ]
    },
    {
      "cell_type": "code",
      "metadata": {
        "id": "hsDYK17XyFFG",
        "colab": {
          "base_uri": "https://localhost:8080/"
        },
        "outputId": "e97f17c0-d3cd-48a0-d34c-5d2aaa53b1d8"
      },
      "source": [
        "#porcentaje\n",
        "value, counts = np.unique(y_train, return_counts=True)\n",
        "print(\"y_train: \", dict(zip(value, 100 * counts / sum(counts))))\n",
        "value, counts = np.unique(y_test, return_counts=True)\n",
        "print(\"y_test: \",dict(zip(value, 100 * counts / sum(counts))))\n",
        "\n",
        "print(\"y_train: \", y_test.shape)\n",
        "print(\"y_test: \", y_test.shape)"
      ],
      "execution_count": 30,
      "outputs": [
        {
          "output_type": "stream",
          "name": "stdout",
          "text": [
            "y_train:  {0: 50.0, 1: 50.0}\n",
            "y_test:  {0: 50.0, 1: 50.0}\n",
            "y_train:  (12,)\n",
            "y_test:  (12,)\n"
          ]
        }
      ]
    },
    {
      "cell_type": "markdown",
      "source": [
        "## <font color='blue'>Vectorización TF-IDF</font>"
      ],
      "metadata": {
        "id": "Bo7FNy0DRM9Y"
      }
    },
    {
      "cell_type": "code",
      "metadata": {
        "id": "qf_JuhNYyj6v"
      },
      "source": [
        "stop_words = list(stopwords.words('english'))\n",
        "# Se añade la stopword: amp, ax, ex\n",
        "# stop_words.extend((\"amp\", \"xa\", \"xe\"))"
      ],
      "execution_count": 31,
      "outputs": []
    },
    {
      "cell_type": "code",
      "metadata": {
        "id": "VSsES1sgzBKg",
        "colab": {
          "base_uri": "https://localhost:8080/"
        },
        "outputId": "0d709a23-ea7f-47fa-996a-08f24957e421"
      },
      "source": [
        "# Creación de la matriz tf-idf\n",
        "# ==============================================================================\n",
        "tfidf_vectorizador = TfidfVectorizer(\n",
        "                        tokenizer  = limpiar_tokenizar,\n",
        "                        min_df     = 3,\n",
        "                        stop_words = stop_words\n",
        "                    )\n",
        "tfidf_vectorizador.fit(X_train)"
      ],
      "execution_count": 32,
      "outputs": [
        {
          "output_type": "execute_result",
          "data": {
            "text/plain": [
              "TfidfVectorizer(min_df=3,\n",
              "                stop_words=['i', 'me', 'my', 'myself', 'we', 'our', 'ours',\n",
              "                            'ourselves', 'you', \"you're\", \"you've\", \"you'll\",\n",
              "                            \"you'd\", 'your', 'yours', 'yourself', 'yourselves',\n",
              "                            'he', 'him', 'his', 'himself', 'she', \"she's\",\n",
              "                            'her', 'hers', 'herself', 'it', \"it's\", 'its',\n",
              "                            'itself', ...],\n",
              "                tokenizer=<function limpiar_tokenizar at 0x7f0ace030d40>)"
            ]
          },
          "metadata": {},
          "execution_count": 32
        }
      ]
    },
    {
      "cell_type": "code",
      "metadata": {
        "id": "jMKFKVrFzHHX"
      },
      "source": [
        "tfidf_train = tfidf_vectorizador.transform(X_train)\n",
        "tfidf_test  = tfidf_vectorizador.transform(X_test)"
      ],
      "execution_count": 33,
      "outputs": []
    },
    {
      "cell_type": "code",
      "metadata": {
        "id": "bKbA9gKBzJ78",
        "colab": {
          "base_uri": "https://localhost:8080/"
        },
        "outputId": "8fcf0ff0-fd6e-4828-bcc0-1a91b572676e"
      },
      "source": [
        "print(f\" Número de tokens creados: {len(tfidf_vectorizador.get_feature_names())}\")\n",
        "print(tfidf_vectorizador.get_feature_names()[:10])"
      ],
      "execution_count": 34,
      "outputs": [
        {
          "output_type": "stream",
          "name": "stdout",
          "text": [
            " Número de tokens creados: 361\n",
            "['abstract', 'access', 'across', 'action', 'activ', 'adapt', 'addit', 'address', 'advantag', 'afford']\n"
          ]
        }
      ]
    },
    {
      "cell_type": "markdown",
      "metadata": {
        "id": "ba1-gWKyzOBQ"
      },
      "source": [
        "#<font color='blue'> Modelo SVM ( Máquinas de Vector Soporte) SVC</font>\n",
        "\n",
        "**Máquinas de Vector Soporte (Vector Support Machines, SVMs)** es un algoritmo de clasificación y regresión desarrollado en la década de los 90, dentro del campo de la ciencia computacional. Aunque inicialmente se desarrolló como un método de clasificación binaria, su aplicación se ha extendido a problemas de clasificación múltiple y regresión. SVMs ha resultado ser uno de los mejores clasificadores para un amplio abanico de situaciones, por lo que se considera uno de los referentes dentro del ámbito de aprendizaje estadístico y machine learning.\n",
        "\n",
        "En Scikit Learn pueden encontrarse tres implementaciones distintas del algoritmo Suport Vector Machine:\n",
        "\n",
        "Las clases **sklearn.svm.SVC y sklearn.svm.NuSVC ** permiten crear modelos SVM de clasificación empleando kernel lineal, polinomial, radial o sigmoide. La diferencia es que SVC controla la regularización a través del hiperparámetro C, mientras que NuSVC lo hace con el número máximo de vectores soporte permitidos.\n",
        "\n",
        "La clase **sklearn.svm.LinearSVC** permite ajustar modelos SVM con kernel lineal. Es similar a SVC cuando el parámetro kernel='linear', pero utiliza un algoritmo más rápido.\n",
        "\n",
        "\n",
        "**¿Cuál es la diferencia entre SVC y SVM en scikit-learn?**\n",
        "Son simplemente diferentes implementaciones del mismo algoritmo. El módulo SVM (SVC, NuSVC, etc.) es un contenedor de la biblioteca libsvm y admite diferentes núcleos, mientras que LinearSVCse basa en liblinear y solo admite un núcleo lineal. Entonces:\n",
        "\n",
        "\n",
        "**SVC(kernel = 'linear')**\n",
        "es en teoría \"equivalente\" a: **LinearSVC()**\n",
        "\n",
        "Debido a que las implementaciones son diferentes en la práctica, obtendrá resultados diferentes, los más importantes son que LinearSVC solo admite un kernel lineal, es más rápido y puede escalar mucho mejor.\n",
        "\n",
        "**K-means vs SVM**\n",
        "K-means se utiliza cuando no conocemos las etiquetas de nuestras muestras de capacitación (aprendizaje no supervisado) y es un algorimo de agrupamiento, mientras que las SVM se utilizan para el aprendizaje supervisado y es un método de clasificación, en el que sabemos a qué clase pertenece cada muestra de capacitación.\n",
        "La agrupación es una técnica de aprendizaje no supervisada y la clasificación es una técnica de aprendizaje supervisado.\n",
        "\n",
        "ref: https://www.cienciadedatos.net/documentos/py25-text-mining-python.html\n",
        "ref: https://www.cienciadedatos.net/documentos/py24-svm-python.html\n",
        "\n"
      ]
    },
    {
      "cell_type": "markdown",
      "source": [
        "# <font color='blue'>SVM SVC Linear</font>"
      ],
      "metadata": {
        "id": "iCBDXYJHRxHi"
      }
    },
    {
      "cell_type": "code",
      "metadata": {
        "id": "vGewKOSiw5pX"
      },
      "source": [
        "# trabajaremos sobre los mismos papers originales sin clusterización como linea base,\n",
        "#trae todos los datos de data_original cuyo doi coincide con cluster_estemi['doi']\n",
        "churn_df = data_original.merge(cluster_stemi['doi'], how='inner')\n",
        "\n",
        "# extraemos proporsion igual balanceando manualmente\n",
        "train_df =pd.concat([churn_df[churn_df['include?']==\"SI\"][0:30],churn_df[churn_df['include?']==\"NO\"][0:30]], axis=0 )\n",
        "\n",
        "\n",
        "dsEntrenamiento=pd.concat([cluster_stemi[cluster_stemi['include?']==1][0:30],cluster_stemi[cluster_stemi['include?']==0][0:30]], axis=0)\n",
        "dfSubset=dsEntrenamiento[[\"text_to_proc\", \"include?\"]]\n",
        "\n",
        "dfUnseen = cluster_stemi[~cluster_stemi.index.isin(dsEntrenamiento.index)]"
      ],
      "execution_count": 93,
      "outputs": []
    },
    {
      "cell_type": "code",
      "source": [
        "#merificamos propociones \n",
        "print(dfSubset.shape)\n",
        "dfSubset.groupby(\"include?\")[\"include?\"].count()"
      ],
      "metadata": {
        "colab": {
          "base_uri": "https://localhost:8080/"
        },
        "outputId": "6d82ad44-4814-4598-d2c6-0673971f5083",
        "id": "3LQMwSAlw5pZ"
      },
      "execution_count": 94,
      "outputs": [
        {
          "output_type": "stream",
          "name": "stdout",
          "text": [
            "(60, 2)\n"
          ]
        },
        {
          "output_type": "execute_result",
          "data": {
            "text/plain": [
              "include?\n",
              "0    30\n",
              "1    30\n",
              "Name: include?, dtype: int64"
            ]
          },
          "metadata": {},
          "execution_count": 94
        }
      ]
    },
    {
      "cell_type": "code",
      "source": [
        "print(dfUnseen.shape)\n",
        "dfUnseen.groupby(\"include?\")[\"include?\"].count()"
      ],
      "metadata": {
        "colab": {
          "base_uri": "https://localhost:8080/"
        },
        "outputId": "d9e712f6-446c-45b8-ecba-e8abe457a55e",
        "id": "k7InhQ7Uw5pa"
      },
      "execution_count": 95,
      "outputs": [
        {
          "output_type": "stream",
          "name": "stdout",
          "text": [
            "(146, 11)\n"
          ]
        },
        {
          "output_type": "execute_result",
          "data": {
            "text/plain": [
              "include?\n",
              "0    91\n",
              "1    55\n",
              "Name: include?, dtype: int64"
            ]
          },
          "metadata": {},
          "execution_count": 95
        }
      ]
    },
    {
      "cell_type": "code",
      "source": [
        "datos_X = dfSubset['text_to_proc']\n",
        "datos_y = dfSubset['include?']\n",
        "\n",
        "X_train, X_test, y_train, y_test = train_test_split(\n",
        "    datos_X,\n",
        "    datos_y,\n",
        "    test_size = 0.2,\n",
        "    random_state = 42,\n",
        "    stratify=dfSubset['include?']\n",
        ")"
      ],
      "metadata": {
        "id": "8_yH2RM8xNvX"
      },
      "execution_count": 96,
      "outputs": []
    },
    {
      "cell_type": "markdown",
      "source": [
        "## <font color='blue'>Entrenamiento</font>"
      ],
      "metadata": {
        "id": "tLuxwp-lYpdY"
      }
    },
    {
      "cell_type": "code",
      "metadata": {
        "id": "MoTT8kLlzSg0",
        "colab": {
          "base_uri": "https://localhost:8080/"
        },
        "outputId": "0717250b-bf45-4d77-a898-bebbce597b78"
      },
      "source": [
        "# \n",
        "# Entrenamiento del modelo SVM\n",
        "# ==============================================================================\n",
        "from sklearn import svm\n",
        "\n",
        "tfidf_train = tfidf_vectorizador.transform(X_train)\n",
        "tfidf_test  = tfidf_vectorizador.transform(X_test)\n",
        "\n",
        "modelo_svm_lineal_SVC = svm.SVC(kernel= \"linear\", C = 1.0)\n",
        "modelo_svm_lineal_SVC.fit(X=tfidf_train, y= y_train)\n",
        "\n",
        "# modelo_svm_lineal_NuSVC = svm.NuSVC(cache_size=200, class_weight=None, coef0=0.0,\n",
        "#       decision_function_shape='ovr', degree=3, gamma='scale', kernel='rbf',\n",
        "#       max_iter=-1, nu=0.5, probability=False, random_state=None,\n",
        "#       shrinking=True, tol=0.001, verbose=False)\n",
        "# modelo_svm_lineal_NuSVC.fit(X=tfidf_train, y= y_train)"
      ],
      "execution_count": 99,
      "outputs": [
        {
          "output_type": "execute_result",
          "data": {
            "text/plain": [
              "SVC(kernel='linear')"
            ]
          },
          "metadata": {},
          "execution_count": 99
        }
      ]
    },
    {
      "cell_type": "markdown",
      "source": [
        "### <font color='blue'>Optimización con GridSearchCV</font>"
      ],
      "metadata": {
        "id": "OkHUACL7Y256"
      }
    },
    {
      "cell_type": "code",
      "metadata": {
        "id": "Ay9UOmGbzqNq",
        "colab": {
          "base_uri": "https://localhost:8080/",
          "height": 424
        },
        "outputId": "82ad35fd-14a5-4367-ca9f-46220682a88f"
      },
      "source": [
        "from sklearn.model_selection import GridSearchCV\n",
        "# Grid de hiperparámetros\n",
        "# ==============================================================================\n",
        "param_grid = {'C': np.logspace(-5, 3, 100)}\n",
        "\n",
        "# Búsqueda por validación cruzada\n",
        "# ==============================================================================\n",
        "grid = GridSearchCV(\n",
        "        estimator  = svm.SVC(kernel= \"linear\"),\n",
        "        param_grid = param_grid,\n",
        "        scoring    = 'f1',\n",
        "        n_jobs     = -1,\n",
        "        cv         = 5, \n",
        "        verbose    = 0,\n",
        "        return_train_score = True\n",
        "      )\n",
        "\n",
        "# Se asigna el resultado a _ para que no se imprima por pantalla\n",
        "_ = grid.fit(X = tfidf_train, y = y_train)\n",
        "\n",
        "# Resultados del grid\n",
        "# ==============================================================================\n",
        "resultados = pd.DataFrame(grid.cv_results_)\n",
        "resultados.filter(regex = '(param.*|mean_t|std_t)')\\\n",
        "    .drop(columns = 'params')\\\n",
        "    .sort_values('mean_test_score', ascending = False)"
      ],
      "execution_count": 100,
      "outputs": [
        {
          "output_type": "execute_result",
          "data": {
            "text/html": [
              "<div>\n",
              "<style scoped>\n",
              "    .dataframe tbody tr th:only-of-type {\n",
              "        vertical-align: middle;\n",
              "    }\n",
              "\n",
              "    .dataframe tbody tr th {\n",
              "        vertical-align: top;\n",
              "    }\n",
              "\n",
              "    .dataframe thead th {\n",
              "        text-align: right;\n",
              "    }\n",
              "</style>\n",
              "<table border=\"1\" class=\"dataframe\">\n",
              "  <thead>\n",
              "    <tr style=\"text-align: right;\">\n",
              "      <th></th>\n",
              "      <th>param_C</th>\n",
              "      <th>mean_test_score</th>\n",
              "      <th>std_test_score</th>\n",
              "      <th>mean_train_score</th>\n",
              "      <th>std_train_score</th>\n",
              "    </tr>\n",
              "  </thead>\n",
              "  <tbody>\n",
              "    <tr>\n",
              "      <th>62</th>\n",
              "      <td>1.02353</td>\n",
              "      <td>0.817778</td>\n",
              "      <td>0.035556</td>\n",
              "      <td>0.994872</td>\n",
              "      <td>0.010256</td>\n",
              "    </tr>\n",
              "    <tr>\n",
              "      <th>61</th>\n",
              "      <td>0.849753</td>\n",
              "      <td>0.807778</td>\n",
              "      <td>0.044942</td>\n",
              "      <td>0.989994</td>\n",
              "      <td>0.012261</td>\n",
              "    </tr>\n",
              "    <tr>\n",
              "      <th>60</th>\n",
              "      <td>0.70548</td>\n",
              "      <td>0.807778</td>\n",
              "      <td>0.044942</td>\n",
              "      <td>0.989994</td>\n",
              "      <td>0.012261</td>\n",
              "    </tr>\n",
              "    <tr>\n",
              "      <th>59</th>\n",
              "      <td>0.585702</td>\n",
              "      <td>0.793232</td>\n",
              "      <td>0.055608</td>\n",
              "      <td>0.984866</td>\n",
              "      <td>0.012366</td>\n",
              "    </tr>\n",
              "    <tr>\n",
              "      <th>63</th>\n",
              "      <td>1.23285</td>\n",
              "      <td>0.791111</td>\n",
              "      <td>0.071111</td>\n",
              "      <td>0.994872</td>\n",
              "      <td>0.010256</td>\n",
              "    </tr>\n",
              "    <tr>\n",
              "      <th>...</th>\n",
              "      <td>...</td>\n",
              "      <td>...</td>\n",
              "      <td>...</td>\n",
              "      <td>...</td>\n",
              "      <td>...</td>\n",
              "    </tr>\n",
              "    <tr>\n",
              "      <th>30</th>\n",
              "      <td>0.00265609</td>\n",
              "      <td>0.530696</td>\n",
              "      <td>0.276218</td>\n",
              "      <td>0.725337</td>\n",
              "      <td>0.381529</td>\n",
              "    </tr>\n",
              "    <tr>\n",
              "      <th>29</th>\n",
              "      <td>0.00220513</td>\n",
              "      <td>0.530696</td>\n",
              "      <td>0.276218</td>\n",
              "      <td>0.725337</td>\n",
              "      <td>0.381529</td>\n",
              "    </tr>\n",
              "    <tr>\n",
              "      <th>28</th>\n",
              "      <td>0.00183074</td>\n",
              "      <td>0.530696</td>\n",
              "      <td>0.276218</td>\n",
              "      <td>0.725337</td>\n",
              "      <td>0.381529</td>\n",
              "    </tr>\n",
              "    <tr>\n",
              "      <th>27</th>\n",
              "      <td>0.00151991</td>\n",
              "      <td>0.530696</td>\n",
              "      <td>0.276218</td>\n",
              "      <td>0.725337</td>\n",
              "      <td>0.381529</td>\n",
              "    </tr>\n",
              "    <tr>\n",
              "      <th>50</th>\n",
              "      <td>0.10975</td>\n",
              "      <td>0.530696</td>\n",
              "      <td>0.276218</td>\n",
              "      <td>0.725337</td>\n",
              "      <td>0.381529</td>\n",
              "    </tr>\n",
              "  </tbody>\n",
              "</table>\n",
              "<p>100 rows × 5 columns</p>\n",
              "</div>"
            ],
            "text/plain": [
              "       param_C  mean_test_score  ...  mean_train_score  std_train_score\n",
              "62     1.02353         0.817778  ...          0.994872         0.010256\n",
              "61    0.849753         0.807778  ...          0.989994         0.012261\n",
              "60     0.70548         0.807778  ...          0.989994         0.012261\n",
              "59    0.585702         0.793232  ...          0.984866         0.012366\n",
              "63     1.23285         0.791111  ...          0.994872         0.010256\n",
              "..         ...              ...  ...               ...              ...\n",
              "30  0.00265609         0.530696  ...          0.725337         0.381529\n",
              "29  0.00220513         0.530696  ...          0.725337         0.381529\n",
              "28  0.00183074         0.530696  ...          0.725337         0.381529\n",
              "27  0.00151991         0.530696  ...          0.725337         0.381529\n",
              "50     0.10975         0.530696  ...          0.725337         0.381529\n",
              "\n",
              "[100 rows x 5 columns]"
            ]
          },
          "metadata": {},
          "execution_count": 100
        }
      ]
    },
    {
      "cell_type": "code",
      "metadata": {
        "id": "v6ykUaojz4FM",
        "colab": {
          "base_uri": "https://localhost:8080/"
        },
        "outputId": "173ad0ee-5f21-4aaf-b911-a0e7ee6693c2"
      },
      "source": [
        "# Mejores hiperparámetros por validación cruzada\n",
        "# ==============================================================================\n",
        "print(\"----------------------------------------\")\n",
        "print(\"Mejores hiperparámetros encontrados (cv)\")\n",
        "print(\"----------------------------------------\")\n",
        "print(grid.best_params_, \":\", grid.best_score_, grid.scoring)\n",
        "\n",
        "modelo_final = grid.best_estimator_\n"
      ],
      "execution_count": 101,
      "outputs": [
        {
          "output_type": "stream",
          "name": "stdout",
          "text": [
            "----------------------------------------\n",
            "Mejores hiperparámetros encontrados (cv)\n",
            "----------------------------------------\n",
            "{'C': 1.0235310218990268} : 0.8177777777777779 f1\n"
          ]
        }
      ]
    },
    {
      "cell_type": "markdown",
      "source": [
        "### <font color='blue'>Predicción</font>"
      ],
      "metadata": {
        "id": "qvfG5dSpZJAA"
      }
    },
    {
      "cell_type": "code",
      "source": [
        "predicciones_test = modelo_final.predict(X=tfidf_test)"
      ],
      "metadata": {
        "id": "kCD_bBjgZIcg"
      },
      "execution_count": 102,
      "outputs": []
    },
    {
      "cell_type": "markdown",
      "source": [
        "### <font color='blue'>Métricas</font>"
      ],
      "metadata": {
        "id": "FG94vP4iZOKL"
      }
    },
    {
      "cell_type": "code",
      "source": [
        "# Error predicciones test\n",
        "# ==============================================================================\n",
        "predicciones_test = modelo_final.predict(X=tfidf_test)\n",
        "\n",
        "print(\"-------------\")\n",
        "print(\"Error de test\")\n",
        "print(\"-------------\")\n",
        "\n",
        "print(f\"Número de clasificaciones erróneas de un total de {tfidf_test.shape[0]} \" \\\n",
        "      f\"clasificaciones: {(y_test != predicciones_test).sum()}\"\n",
        ")\n",
        "print(f\"% de error: {100*(y_test != predicciones_test).mean()}\")\n",
        "\n",
        "print(\"\")\n",
        "print(\"-------------------\")\n",
        "print(\"Matriz de confusión\")\n",
        "print(\"-------------------\")\n",
        "pd.DataFrame(confusion_matrix(y_true = y_test, y_pred= predicciones_test),\n",
        "             columns= [0, 1],\n",
        "             index = [0, 1])"
      ],
      "metadata": {
        "id": "7L807paUQhTV",
        "colab": {
          "base_uri": "https://localhost:8080/",
          "height": 268
        },
        "outputId": "4ccfd347-e85f-4e12-fb65-b9bb7f13ac1c"
      },
      "execution_count": 103,
      "outputs": [
        {
          "output_type": "stream",
          "name": "stdout",
          "text": [
            "-------------\n",
            "Error de test\n",
            "-------------\n",
            "Número de clasificaciones erróneas de un total de 12 clasificaciones: 2\n",
            "% de error: 16.666666666666664\n",
            "\n",
            "-------------------\n",
            "Matriz de confusión\n",
            "-------------------\n"
          ]
        },
        {
          "output_type": "execute_result",
          "data": {
            "text/html": [
              "<div>\n",
              "<style scoped>\n",
              "    .dataframe tbody tr th:only-of-type {\n",
              "        vertical-align: middle;\n",
              "    }\n",
              "\n",
              "    .dataframe tbody tr th {\n",
              "        vertical-align: top;\n",
              "    }\n",
              "\n",
              "    .dataframe thead th {\n",
              "        text-align: right;\n",
              "    }\n",
              "</style>\n",
              "<table border=\"1\" class=\"dataframe\">\n",
              "  <thead>\n",
              "    <tr style=\"text-align: right;\">\n",
              "      <th></th>\n",
              "      <th>0</th>\n",
              "      <th>1</th>\n",
              "    </tr>\n",
              "  </thead>\n",
              "  <tbody>\n",
              "    <tr>\n",
              "      <th>0</th>\n",
              "      <td>4</td>\n",
              "      <td>2</td>\n",
              "    </tr>\n",
              "    <tr>\n",
              "      <th>1</th>\n",
              "      <td>0</td>\n",
              "      <td>6</td>\n",
              "    </tr>\n",
              "  </tbody>\n",
              "</table>\n",
              "</div>"
            ],
            "text/plain": [
              "   0  1\n",
              "0  4  2\n",
              "1  0  6"
            ]
          },
          "metadata": {},
          "execution_count": 103
        }
      ]
    },
    {
      "cell_type": "code",
      "source": [
        "metricas_modelo(X_train, y_train,y_test,predicciones_test,\"modelo optimizado\",0)"
      ],
      "metadata": {
        "id": "aRA-vNc0ZmO5",
        "colab": {
          "base_uri": "https://localhost:8080/",
          "height": 614
        },
        "outputId": "e760ef9c-69f7-42c3-e936-857bfcc5624c"
      },
      "execution_count": 104,
      "outputs": [
        {
          "output_type": "stream",
          "name": "stdout",
          "text": [
            "\n",
            " **********  modelo optimizado  *************\n",
            "\n",
            "Number of training samples: 48\n",
            "Unlabeled samples in training set: 0\n",
            "\n",
            "Number of test samples: 12\n",
            "Unlabeled samples in training set: 0\n",
            "\n",
            "Classifications true: 10\n",
            "Classifications false: 2\n",
            "Classifications error: 16.67%\n",
            "\n",
            "F1 score (Puntaje)   : 85.71%\n",
            "Accuracy (Exactitud) : 83.33%\n",
            "Precision (Precision): 75.0%\n",
            "Recall (Sensibilidad): 100.0%\n",
            "\n",
            "\n"
          ]
        },
        {
          "output_type": "display_data",
          "data": {
            "image/png": "[encoded data removed]",
            "text/plain": [
              "<Figure size 576x288 with 2 Axes>"
            ]
          },
          "metadata": {
            "needs_background": "light"
          }
        }
      ]
    },
    {
      "cell_type": "markdown",
      "source": [
        "## <font color='blue'>Testeo con unSeen</font>"
      ],
      "metadata": {
        "id": "5hPNE1kvZTva"
      }
    },
    {
      "cell_type": "code",
      "source": [
        "print(\"Cantidad de columnas: \",len(dfUnseen.columns))\n",
        "print(\"Cantidad de filas: \",len(dfUnseen))"
      ],
      "metadata": {
        "id": "C6_R7pjN4c6k",
        "colab": {
          "base_uri": "https://localhost:8080/"
        },
        "outputId": "5661ae2e-5bc7-4484-8e93-d630b6902180"
      },
      "execution_count": 105,
      "outputs": [
        {
          "output_type": "stream",
          "name": "stdout",
          "text": [
            "Cantidad de columnas:  11\n",
            "Cantidad de filas:  146\n"
          ]
        }
      ]
    },
    {
      "cell_type": "code",
      "source": [
        "dfUnseen.groupby('include?').count()"
      ],
      "metadata": {
        "id": "UEXc55ewZ46e",
        "colab": {
          "base_uri": "https://localhost:8080/",
          "height": 143
        },
        "outputId": "e48cde3c-6dd8-4fa7-e244-90d8dd7984cd"
      },
      "execution_count": 106,
      "outputs": [
        {
          "output_type": "execute_result",
          "data": {
            "text/html": [
              "<div>\n",
              "<style scoped>\n",
              "    .dataframe tbody tr th:only-of-type {\n",
              "        vertical-align: middle;\n",
              "    }\n",
              "\n",
              "    .dataframe tbody tr th {\n",
              "        vertical-align: top;\n",
              "    }\n",
              "\n",
              "    .dataframe thead th {\n",
              "        text-align: right;\n",
              "    }\n",
              "</style>\n",
              "<table border=\"1\" class=\"dataframe\">\n",
              "  <thead>\n",
              "    <tr style=\"text-align: right;\">\n",
              "      <th></th>\n",
              "      <th>doi</th>\n",
              "      <th>subtype</th>\n",
              "      <th>creator</th>\n",
              "      <th>affilname</th>\n",
              "      <th>publicationName</th>\n",
              "      <th>aggregationType</th>\n",
              "      <th>proc_pubmed_id</th>\n",
              "      <th>proc_abstract</th>\n",
              "      <th>proc_title</th>\n",
              "      <th>text_to_proc</th>\n",
              "    </tr>\n",
              "    <tr>\n",
              "      <th>include?</th>\n",
              "      <th></th>\n",
              "      <th></th>\n",
              "      <th></th>\n",
              "      <th></th>\n",
              "      <th></th>\n",
              "      <th></th>\n",
              "      <th></th>\n",
              "      <th></th>\n",
              "      <th></th>\n",
              "      <th></th>\n",
              "    </tr>\n",
              "  </thead>\n",
              "  <tbody>\n",
              "    <tr>\n",
              "      <th>0</th>\n",
              "      <td>91</td>\n",
              "      <td>91</td>\n",
              "      <td>91</td>\n",
              "      <td>91</td>\n",
              "      <td>91</td>\n",
              "      <td>91</td>\n",
              "      <td>91</td>\n",
              "      <td>90</td>\n",
              "      <td>91</td>\n",
              "      <td>91</td>\n",
              "    </tr>\n",
              "    <tr>\n",
              "      <th>1</th>\n",
              "      <td>55</td>\n",
              "      <td>55</td>\n",
              "      <td>55</td>\n",
              "      <td>54</td>\n",
              "      <td>55</td>\n",
              "      <td>55</td>\n",
              "      <td>55</td>\n",
              "      <td>55</td>\n",
              "      <td>55</td>\n",
              "      <td>55</td>\n",
              "    </tr>\n",
              "  </tbody>\n",
              "</table>\n",
              "</div>"
            ],
            "text/plain": [
              "          doi  subtype  creator  ...  proc_abstract  proc_title  text_to_proc\n",
              "include?                         ...                                         \n",
              "0          91       91       91  ...             90          91            91\n",
              "1          55       55       55  ...             55          55            55\n",
              "\n",
              "[2 rows x 10 columns]"
            ]
          },
          "metadata": {},
          "execution_count": 106
        }
      ]
    },
    {
      "cell_type": "markdown",
      "source": [
        "### <font color='blue'>Lectura de datos y vectorización</font>"
      ],
      "metadata": {
        "id": "QEHd4CywZkMI"
      }
    },
    {
      "cell_type": "code",
      "source": [
        "# Reparto train y test\n",
        "# ==============================================================================\n",
        "X_test = dfUnseen['text_to_proc']\n",
        "y_test = dfUnseen['include?']"
      ],
      "metadata": {
        "id": "ivgCiTYZ4c6l"
      },
      "execution_count": 107,
      "outputs": []
    },
    {
      "cell_type": "code",
      "metadata": {
        "id": "qaslaLUH4c6l"
      },
      "source": [
        "tfidf_train = tfidf_vectorizador.transform(X_test)\n",
        "# tfidf_test  = tfidf_vectorizador.transform(X_test)"
      ],
      "execution_count": 108,
      "outputs": []
    },
    {
      "cell_type": "markdown",
      "source": [
        "### <font color='blue'>Predicción</font>"
      ],
      "metadata": {
        "id": "yF1yd3qeaGto"
      }
    },
    {
      "cell_type": "code",
      "source": [
        "predicciones_test = modelo_final.predict(X=tfidf_train)"
      ],
      "metadata": {
        "id": "2lMPRQRc4c6m"
      },
      "execution_count": 109,
      "outputs": []
    },
    {
      "cell_type": "markdown",
      "source": [
        "### <font color='blue'>Métricas</font>"
      ],
      "metadata": {
        "id": "24fMoM0zaHSE"
      }
    },
    {
      "cell_type": "code",
      "source": [
        "metricas_modelo(X_train, y_train,y_test,predicciones_test,\"modelo optimizado\",0)"
      ],
      "metadata": {
        "id": "eEC66hPF4c6m",
        "colab": {
          "base_uri": "https://localhost:8080/",
          "height": 614
        },
        "outputId": "be27b479-c35c-4d69-e2e7-772aecf7efa8"
      },
      "execution_count": 110,
      "outputs": [
        {
          "output_type": "stream",
          "name": "stdout",
          "text": [
            "\n",
            " **********  modelo optimizado  *************\n",
            "\n",
            "Number of training samples: 48\n",
            "Unlabeled samples in training set: 0\n",
            "\n",
            "Number of test samples: 146\n",
            "Unlabeled samples in training set: 0\n",
            "\n",
            "Classifications true: 89\n",
            "Classifications false: 57\n",
            "Classifications error: 39.04%\n",
            "\n",
            "F1 score (Puntaje)   : 59.57%\n",
            "Accuracy (Exactitud) : 60.96%\n",
            "Precision (Precision): 48.84%\n",
            "Recall (Sensibilidad): 76.36%\n",
            "\n",
            "\n"
          ]
        },
        {
          "output_type": "display_data",
          "data": {
            "image/png": "[encoded data removed]",
            "text/plain": [
              "<Figure size 576x288 with 2 Axes>"
            ]
          },
          "metadata": {
            "needs_background": "light"
          }
        }
      ]
    },
    {
      "cell_type": "code",
      "source": [
        "matriz = confusion_matrix(y_test,predicciones_test)\n",
        "leete = matriz[0][1] + matriz[1][1]\n",
        "noleete = matriz[0][0]   + matriz[1][0] \n",
        "ahorro = noleete * 100 / (leete + noleete) \n",
        "print(f\"Leete {leete} te salvaste de leer {noleete}\")\n",
        "print(f\"Te ahorre de leer {ahorro} %\")"
      ],
      "metadata": {
        "id": "xDh3WL194c6m",
        "colab": {
          "base_uri": "https://localhost:8080/"
        },
        "outputId": "4e1d2a32-b420-45f2-9ca4-751a7f44bf9c"
      },
      "execution_count": 84,
      "outputs": [
        {
          "output_type": "stream",
          "name": "stdout",
          "text": [
            "Leete 86 te salvaste de leer 60\n",
            "Te ahorre de leer 41.0958904109589 %\n"
          ]
        }
      ]
    }
  ]
}