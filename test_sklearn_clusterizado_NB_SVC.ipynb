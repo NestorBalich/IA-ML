{
  "nbformat": 4,
  "nbformat_minor": 0,
  "metadata": {
    "colab": {
      "name": "test sklearn clusterizado NB SVC.ipynb",
      "provenance": [],
      "collapsed_sections": []
    },
    "kernelspec": {
      "display_name": "Python 3",
      "name": "python3"
    },
    "language_info": {
      "name": "python"
    }
  },
  "cells": [
    {
      "cell_type": "markdown",
      "metadata": {
        "id": "L9r4jNRnXdMj"
      },
      "source": [
        "---\n",
        "# **<font color='blue'>Trabajo de investigación Doctorado UAI</font>**\n",
        "---\n",
        "\n",
        "**Alumno:** Pablo Negro - Gonzalo Zabala - Néstor Balich\n",
        "\n",
        "**Objetivo:** Analizar los modelos  de la libreria sklean aplicandola directamente y con la función pipe\n",
        "\n",
        "**Parte 2**\n",
        "* Lectura de CVS\n",
        "* Entrenamiento\n",
        "* Metricas\n",
        "* Selección de features\n",
        "* Clasterizado\n"
      ]
    },
    {
      "cell_type": "markdown",
      "metadata": {
        "id": "D3oqjxlJKBbO"
      },
      "source": [
        "**Machine Learning supervisado**\n",
        "En esta modalidad se podría entender como algoritmos que “aprenden” de los datos introducidos por una persona. En este caso:\n",
        "\n",
        "Se necesita la intervención humana para etiquetar, clasificar e introducir los datos en el algoritmo.\n",
        "\n",
        "El algoritmo genera datos de salida esperados, ya que en la entrada han sido etiquetados y clasificados por alguien.\n",
        "\n",
        "Existen dos tipos de datos que pueden ser introducidos en el algoritmo:\n",
        "\n",
        "**Clasificación:** clasifican un objeto dentro de diversas clases. Por ejemplo, para determinar si un paciente está enfermo o si un correo electrónico es spam.\n",
        "\n",
        "**Regresión:** predicen un valor numérico. Sería el caso de los precios de una casa al escoger diferentes opciones o la demanda de ocupación de un hotel.\n",
        "\n",
        "Algunas aplicaciones prácticas de este tipo de Machine Learning:\n",
        "- La predicción de coste de un siniestro en el caso de las compañías de seguros.\n",
        "\n",
        "- La detección de fraude bancario por parte de entidades financieras.\n",
        "\n",
        "- La previsión de avería en la maquinaria de una compañía.\n",
        "\n",
        "\n",
        "**Machine Learning no supervisado**\n",
        "A diferencia del caso anterior, no existe la intervención humana en este tipo de Machine Learning. Aquí los algoritmos aprenden de datos con elementos no etiquetados buscando patrones o relaciones entre ellos. En este caso:\n",
        "\n",
        "Se introducen datos de entrada sin etiquetar.\n",
        "No necesita la intervención humana.\n",
        "\n",
        "Existen dos tipos de algoritmos para Machine Learning no supervisado:\n",
        "\n",
        "**Clustering:** clasifica en grupos los datos de salida. Es el caso de las segmentaciones de clientes según qué hayan comprado.\n",
        "\n",
        "**Asociación:** descubre reglas dentro del conjunto de datos. Por ejemplo, aquellos clientes que compran un coche también contratan un seguro, por lo que el algoritmo detecta esta regla.\n",
        "\n",
        "\n",
        "Existen otros casos prácticos en los que se utiliza este tipo de Machine Learning:\n",
        "- La segmentación del tipo de clientes en un banco (cluster).\n",
        "\n",
        "- La clasificación del tipo de pacientes en un hospital.\n",
        "\n",
        "- El sistema de recomendaciones de contenido según el consumo del usuario en plataformas de streaming de vídeo.\n"
      ]
    },
    {
      "cell_type": "code",
      "metadata": {
        "id": "NSP0iSDDG0U0"
      },
      "source": [
        "!pip install -qq ipython-autotime\n",
        "!pip install -qq -U scikit-learn"
      ],
      "execution_count": null,
      "outputs": []
    },
    {
      "cell_type": "code",
      "metadata": {
        "colab": {
          "base_uri": "https://localhost:8080/"
        },
        "id": "PUKD-vi1HQp9",
        "outputId": "b7f1ee73-4648-452d-dfde-f724be07dd55"
      },
      "source": [
        "%matplotlib inline\n",
        "%load_ext autotime"
      ],
      "execution_count": null,
      "outputs": [
        {
          "output_type": "stream",
          "name": "stdout",
          "text": [
            "time: 140 µs (started: 2021-12-09 12:10:27 +00:00)\n"
          ]
        }
      ]
    },
    {
      "cell_type": "code",
      "metadata": {
        "id": "CDarLxbJG9Gw",
        "colab": {
          "base_uri": "https://localhost:8080/"
        },
        "outputId": "9804c07d-ffbc-4d1f-b0c4-d3cd708ca7b3"
      },
      "source": [
        "import pandas as pd\n",
        "import numpy as np\n",
        "import matplotlib.pyplot as plt\n",
        "import seaborn as sb\n",
        "from sklearn.cluster import KMeans\n",
        "from sklearn.metrics import pairwise_distances_argmin_min"
      ],
      "execution_count": null,
      "outputs": [
        {
          "output_type": "stream",
          "name": "stdout",
          "text": [
            "time: 1.09 s (started: 2021-12-09 12:10:32 +00:00)\n"
          ]
        }
      ]
    },
    {
      "cell_type": "markdown",
      "metadata": {
        "id": "FTzsw2abZLWi"
      },
      "source": [
        "# **Lectura de datos CVS**"
      ]
    },
    {
      "cell_type": "code",
      "metadata": {
        "id": "Z0vvogszME26"
      },
      "source": [
        "import pandas as pd\n",
        "\n",
        "url = \"https://raw.githubusercontent.com/NestorBalich/IA-ML/main/dfscopus.csv\"\n",
        "data_original = pd.read_csv(url, encoding='latin-1', sep=',')\n",
        "\n",
        "url =\"https://raw.githubusercontent.com/NestorBalich/IA-ML/main/df1_lemati_norm.csv\"\n",
        "df1_lemati_norm= pd.read_csv(url, encoding='latin-1', sep=',')\n",
        "\n",
        "url =\"https://raw.githubusercontent.com/NestorBalich/IA-ML/main/df1_stemi_norm.csv\"\n",
        "df1_stemi_norm = pd.read_csv(url, encoding='latin-1', sep=',')\n",
        "\n",
        "url =\"https://raw.githubusercontent.com/NestorBalich/IA-ML/main/df1_cluster_lemati.csv\"\n",
        "cluster_lemati= pd.read_csv(url, encoding='latin-1', sep=',')\n",
        "\n",
        "url =\"https://raw.githubusercontent.com/NestorBalich/IA-ML/main/df1_cluster_stemi.csv\"\n",
        "cluster_stemi = pd.read_csv(url, encoding='latin-1', sep=',')\n"
      ],
      "execution_count": null,
      "outputs": []
    },
    {
      "cell_type": "markdown",
      "metadata": {
        "id": "ADCN2Bgk_3kt"
      },
      "source": [
        "#**Definición de metricas a utilizar**\n",
        "\n",
        "**Matriz de confusión**\n",
        "Una matriz de confusión puede definirse vagamente como una tabla que describe el desempeño de un modelo de clasificación en un conjunto de datos de prueba cuyos valores verdaderos son conocidos. Una matriz de confusión es altamente interpretativa y puede ser usada para estimar un número de otras métricas.\n",
        "\n",
        "<figure>\n",
        "<center>\n",
        "<img src='https://polmartisanahuja.com/wp-content/uploads/2021/01/image-for-post-10-e1610536842121-768x742.png' width=\"300\" height=\"300\" />\n",
        "<figcaption>Image Caption</figcaption></center>\n",
        "</figure>\n",
        "\n",
        "\n",
        "**Exactitud (accuracy)**\n",
        "La exactitud de la clasificación es la relación entre las predicciones correctas y el número total de predicciones. O más simplemente, con qué frecuencia es correcto el clasificador.\n",
        "\n",
        "**Precisión(Precision)**\n",
        "La precisión es la relación entre las predicciones correctas y el número total de predicciones correctas previstas. Esto mide la precisión del clasificador a la hora de predecir casos positivos.\n",
        "\n",
        "**Sensibilidad(Recall)**\n",
        "La sensibilidad también es llamada en inglés recall, es la relación entre las predicciones positivas correctas y el número total de predicciones positivas. O más simplemente, cuán sensible es el clasificador para detectar instancias positivas. Esto también se conoce como la tasa verdadera positiva.\n",
        "\n",
        "\n",
        "**Puntaje de F1**\n",
        "El puntaje F1 es la medida armónica de la memoria y la precisión, con una puntuación más alta como mejor modelo."
      ]
    },
    {
      "cell_type": "code",
      "metadata": {
        "id": "SDNAsAgyM_3Z"
      },
      "source": [
        "from sklearn.metrics import confusion_matrix\n",
        "def matriz_confusion(train, pred,title= \"Matriz de confusión\"):\n",
        "    import seaborn as sns\n",
        "    import matplotlib.pyplot as plt \n",
        "    cm = confusion_matrix(train, pred)\n",
        "\n",
        "    print(\"\\n\")\n",
        "    # plt.figure(figsize=(10,6))  \n",
        "    plt.rcParams.update({'font.size': 16})\n",
        "\n",
        "    fig, ax = plt.subplots(figsize=(8, 4))\n",
        "\n",
        "    # ax= plt.subplot()\n",
        "    sns.heatmap(cm, annot=True, ax = ax, fmt='g'); #annot=True to annotate cells\n",
        "\n",
        "   \n",
        "    # labels, title and ticks\n",
        "    ax.set_xlabel('Predicted');\n",
        "    ax.set_ylabel('Actual'); \n",
        "\n",
        "    ax.set_title(f'Confusion Matrix {title}'); \n",
        "    ax.xaxis.set_ticklabels([0, 1]); ax.yaxis.set_ticklabels([0, 1]);\n",
        "    fig.tight_layout()\n",
        "\n",
        "from sklearn.metrics import f1_score, accuracy_score, precision_score, recall_score,accuracy_score\n",
        "def metricas_modelo(Xtrain, Ytrain,train,pred, title=\"Metricas del modelo\",view=0):\n",
        "    matriz = confusion_matrix(train,pred )\n",
        "    exactitud = round(100*accuracy_score(train, pred),2)\n",
        "    precision = round(100*precision_score(train,pred),2)\n",
        "    sensibilidad = round(100*recall_score(train, pred),2)\n",
        "    puntaje = round(100*f1_score(train, pred),2)\n",
        "    error_clasificacion = round(100*(train != pred).mean(),2)\n",
        " \n",
        "\n",
        "    if view == 0 or view == 1:\n",
        "        print (\"\\n ********** \",title ,\" *************\")\n",
        "        print(\"\\nNumber of training samples:\", len(Xtrain))\n",
        "        print(\"Unlabeled samples in training set:\", sum(1 for x in Ytrain if x == -1))\n",
        "        \n",
        "        print(\"\\nNumber of test samples:\", len(train))\n",
        "        print(\"Unlabeled samples in training set:\", sum(1 for x in pred if x == -1))\n",
        "        print(f\"\\nClassifications true: {(train == pred).sum()}\")\n",
        "        print(f\"Classifications false: {(train != pred).sum()}\")\n",
        "        print(f\"Classifications error: {error_clasificacion}%\")\n",
        "        print(f\"\\nF1 score (Puntaje)   : {puntaje}%\")\n",
        "        print(f\"Accuracy (Exactitud) : {exactitud}%\")\n",
        "        print(f\"Precision (Precision): {precision}%\")\n",
        "        print(f\"Recall (Sensibilidad): {sensibilidad}%\")\n",
        "        # print(\"Matrix confusion: \\n\", matriz)\n",
        "    if view == 0 or view == 2:\n",
        "        matriz_confusion(train, pred,title)"
      ],
      "execution_count": null,
      "outputs": []
    },
    {
      "cell_type": "markdown",
      "metadata": {
        "id": "I0H_tYxvUFtn"
      },
      "source": [
        "# **Aplicación de modelos**"
      ]
    },
    {
      "cell_type": "code",
      "source": [
        "from sklearn.model_selection import train_test_split\n",
        "from sklearn.feature_extraction.text import TfidfVectorizer\n",
        "from sklearn.feature_extraction.text import CountVectorizer\n",
        "from sklearn.feature_extraction.text import TfidfTransformer\n",
        "#modelos\n",
        "from sklearn.naive_bayes import MultinomialNB\n",
        "from sklearn.svm  import LinearSVC\n",
        "from sklearn.semi_supervised import LabelSpreading"
      ],
      "metadata": {
        "id": "eWlhYCA43LeJ"
      },
      "execution_count": null,
      "outputs": []
    },
    {
      "cell_type": "markdown",
      "metadata": {
        "id": "Ws4MGMx5lizW"
      },
      "source": [
        "### Definimos subset entrenamiento"
      ]
    },
    {
      "cell_type": "markdown",
      "metadata": {
        "id": "zFX74AeVZoZj"
      },
      "source": [
        "## Entrenamiento MultinomialNB y LinearSVC"
      ]
    },
    {
      "cell_type": "markdown",
      "metadata": {
        "id": "mfOtu3ZAlXOy"
      },
      "source": [
        "## SVC y NB con lematizado"
      ]
    },
    {
      "cell_type": "code",
      "metadata": {
        "id": "9gJbP4Zk5l2Z"
      },
      "source": [
        "# trabajaremos sobre el cluster stemizado normalizado\n",
        "# extraemos proporsion igual balanceando manualmente\n",
        "\n",
        "dsEntrenamiento=pd.concat([cluster_stemi[cluster_stemi['include?']==1][0:30],cluster_stemi[cluster_stemi['include?']==0][0:30]], axis=0)\n",
        "dfSubset=dsEntrenamiento[[\"text_to_proc\", \"include?\"]]\n",
        "dfUnseen = cluster_stemi[~cluster_stemi.index.isin(dsEntrenamiento.index)]"
      ],
      "execution_count": null,
      "outputs": []
    },
    {
      "cell_type": "code",
      "source": [
        "#merificamos propociones \n",
        "print(dfSubset.shape)\n",
        "dfSubset.groupby(\"include?\")[\"include?\"].count()"
      ],
      "metadata": {
        "colab": {
          "base_uri": "https://localhost:8080/"
        },
        "id": "6Xwo1aaOpfEL",
        "outputId": "81c17a3a-24b3-409d-c947-55b784a6a55a"
      },
      "execution_count": null,
      "outputs": [
        {
          "output_type": "stream",
          "name": "stdout",
          "text": [
            "(60, 2)\n"
          ]
        },
        {
          "output_type": "execute_result",
          "data": {
            "text/plain": [
              "include?\n",
              "0    30\n",
              "1    30\n",
              "Name: include?, dtype: int64"
            ]
          },
          "metadata": {},
          "execution_count": 18
        }
      ]
    },
    {
      "cell_type": "code",
      "source": [
        "print(dfUnseen.shape)\n",
        "dfUnseen.groupby(\"include?\")[\"include?\"].count()"
      ],
      "metadata": {
        "colab": {
          "base_uri": "https://localhost:8080/"
        },
        "id": "UHTmyYpIpUEB",
        "outputId": "c0eaa2f4-5a7e-4735-a90b-5daceaed9e89"
      },
      "execution_count": null,
      "outputs": [
        {
          "output_type": "stream",
          "name": "stdout",
          "text": [
            "(146, 11)\n"
          ]
        },
        {
          "output_type": "execute_result",
          "data": {
            "text/plain": [
              "include?\n",
              "0    91\n",
              "1    55\n",
              "Name: include?, dtype: int64"
            ]
          },
          "metadata": {},
          "execution_count": 19
        }
      ]
    },
    {
      "cell_type": "code",
      "metadata": {
        "colab": {
          "base_uri": "https://localhost:8080/"
        },
        "id": "eOfz694Y5l2b",
        "outputId": "66be1f6a-9e17-4a84-ceda-6894f83f14eb"
      },
      "source": [
        "datos_X = dfSubset['text_to_proc']\n",
        "datos_y = dfSubset['include?']\n",
        "\n",
        "X_train, X_test, y_train, y_test = train_test_split(\n",
        "    datos_X,\n",
        "    datos_y,\n",
        "    test_size = 0.2,\n",
        "    random_state = 42,\n",
        "    stratify=dfSubset['include?']\n",
        ")\n",
        "#porcentaje\n",
        "import numpy as np\n",
        "value, counts = np.unique(y_train, return_counts=True)\n",
        "print(\"y_train: \", dict(zip(value, 100 * counts / sum(counts))))\n",
        "value, counts = np.unique(y_test, return_counts=True)\n",
        "print(\"y_test: \",dict(zip(value, 100 * counts / sum(counts))))\n",
        "\n",
        "print(\"y_train: \", y_test.shape)\n",
        "print(\"y_test: \", y_test.shape)"
      ],
      "execution_count": null,
      "outputs": [
        {
          "output_type": "stream",
          "name": "stdout",
          "text": [
            "y_train:  {0: 50.0, 1: 50.0}\n",
            "y_test:  {0: 50.0, 1: 50.0}\n",
            "y_train:  (12,)\n",
            "y_test:  (12,)\n"
          ]
        }
      ]
    },
    {
      "cell_type": "markdown",
      "metadata": {
        "id": "gGQc7KZkSCls"
      },
      "source": [
        "### Entrenamos modelos"
      ]
    },
    {
      "cell_type": "code",
      "metadata": {
        "id": "6gNrOvBJZGkD"
      },
      "source": [
        "#vectorizamos y transformamos tdidf para entrenar al modelo\n",
        "count_vect = CountVectorizer()\n",
        "X_train_counts = count_vect.fit_transform(X_train)\n",
        "tfidf_transformer = TfidfTransformer()\n",
        "X_train_tfidf = tfidf_transformer.fit_transform(X_train_counts)\n",
        "clf_NB = MultinomialNB().fit(X_train_tfidf, y_train)\n",
        "clf_SVC = LinearSVC().fit(X_train_tfidf, y_train)"
      ],
      "execution_count": null,
      "outputs": []
    },
    {
      "cell_type": "markdown",
      "metadata": {
        "id": "rHQQSoLsSNGr"
      },
      "source": [
        "### Realizamos predicciones con unseen"
      ]
    },
    {
      "cell_type": "code",
      "metadata": {
        "colab": {
          "base_uri": "https://localhost:8080/"
        },
        "id": "BmPP9DdBlL-1",
        "outputId": "58a313a9-b4af-4aa7-e3e2-157f74c01295"
      },
      "source": [
        "#realizamos predicciones con Unseen\n",
        "dfPred = dfUnseen.copy()\n",
        "dfPred[\"pred_include_NB\"] = 0\n",
        "dfPred[\"pred_include_SVC\"] = 0\n",
        "for index in dfPred.index:\n",
        "    aux = dfPred[\"text_to_proc\"][index]\n",
        "    dfPred[\"pred_include_NB\"][index] = clf_NB.predict(count_vect.transform([aux]))\n",
        "    dfPred[\"pred_include_SVC\"][index] = clf_SVC.predict(count_vect.transform([aux]))"
      ],
      "execution_count": null,
      "outputs": [
        {
          "output_type": "stream",
          "name": "stderr",
          "text": [
            "/usr/local/lib/python3.7/dist-packages/ipykernel_launcher.py:7: SettingWithCopyWarning: \n",
            "A value is trying to be set on a copy of a slice from a DataFrame\n",
            "\n",
            "See the caveats in the documentation: https://pandas.pydata.org/pandas-docs/stable/user_guide/indexing.html#returning-a-view-versus-a-copy\n",
            "  import sys\n",
            "/usr/local/lib/python3.7/dist-packages/ipykernel_launcher.py:8: SettingWithCopyWarning: \n",
            "A value is trying to be set on a copy of a slice from a DataFrame\n",
            "\n",
            "See the caveats in the documentation: https://pandas.pydata.org/pandas-docs/stable/user_guide/indexing.html#returning-a-view-versus-a-copy\n",
            "  \n"
          ]
        }
      ]
    },
    {
      "cell_type": "markdown",
      "metadata": {
        "id": "Q306o0HwSUzc"
      },
      "source": [
        "### Metricas con SVC"
      ]
    },
    {
      "cell_type": "code",
      "metadata": {
        "colab": {
          "base_uri": "https://localhost:8080/",
          "height": 614
        },
        "id": "5267R4kBlDbK",
        "outputId": "0da97aee-7095-4b42-a9c2-12b50d7bbc5a"
      },
      "source": [
        "metricas_modelo(X_train, y_train,dfPred['include?'],dfPred['pred_include_SVC'],\"pred_include_SVC to dfTrain\")\n",
        "# print(pd.crosstab(dfPred['include?'], dfPred['pred_include_SVC']))"
      ],
      "execution_count": null,
      "outputs": [
        {
          "output_type": "stream",
          "name": "stdout",
          "text": [
            "\n",
            " **********  pred_include_SVC to dfTrain  *************\n",
            "\n",
            "Number of training samples: 48\n",
            "Unlabeled samples in training set: 0\n",
            "\n",
            "Number of test samples: 146\n",
            "Unlabeled samples in training set: 0\n",
            "\n",
            "Classifications true: 70\n",
            "Classifications false: 76\n",
            "Classifications error: 52.05%\n",
            "\n",
            "F1 score (Puntaje)   : 57.78%\n",
            "Accuracy (Exactitud) : 47.95%\n",
            "Precision (Precision): 41.6%\n",
            "Recall (Sensibilidad): 94.55%\n",
            "\n",
            "\n"
          ]
        },
        {
          "output_type": "display_data",
          "data": {
            "image/png": "[encoded data removed]",
            "text/plain": [
              "<Figure size 576x288 with 2 Axes>"
            ]
          },
          "metadata": {
            "needs_background": "light"
          }
        }
      ]
    },
    {
      "cell_type": "markdown",
      "metadata": {
        "id": "H1w2jEb1SejZ"
      },
      "source": [
        "### Métricas con NB"
      ]
    },
    {
      "cell_type": "code",
      "metadata": {
        "colab": {
          "base_uri": "https://localhost:8080/",
          "height": 631
        },
        "id": "Splbc9fHlk1f",
        "outputId": "a324814f-d3d7-4b81-f249-2adb51a09f0b"
      },
      "source": [
        "metricas_modelo(X_train, y_train,dfPred['include?'],dfPred['pred_include_NB'],\"pred_include_NB to dfTrain\")\n",
        "# print(pd.crosstab(dfPred['include?'], dfPred['pred_include_NB']))"
      ],
      "execution_count": null,
      "outputs": [
        {
          "output_type": "stream",
          "name": "stdout",
          "text": [
            "\n",
            " **********  pred_include_NB to dfTrain  *************\n",
            "\n",
            "Number of training samples: 45\n",
            "Unlabeled samples in training set: 0\n",
            "\n",
            "Number of test samples: 172\n",
            "Unlabeled samples in training set: 0\n",
            "\n",
            "Classifications true: 75\n",
            "Classifications false: 97\n",
            "Classifications error: 56.4%\n",
            "\n",
            "F1 score (Puntaje)   : 51.74%\n",
            "Accuracy (Exactitud) : 43.6%\n",
            "Precision (Precision): 35.62%\n",
            "Recall (Sensibilidad): 94.55%\n",
            "\n",
            "\n"
          ]
        },
        {
          "output_type": "display_data",
          "data": {
            "image/png": "[encoded data removed]",
            "text/plain": [
              "<Figure size 576x288 with 2 Axes>"
            ]
          },
          "metadata": {
            "needs_background": "light"
          }
        },
        {
          "output_type": "stream",
          "name": "stdout",
          "text": [
            "time: 327 ms (started: 2021-12-09 12:12:39 +00:00)\n"
          ]
        }
      ]
    },
    {
      "cell_type": "markdown",
      "metadata": {
        "id": "XtYbLOCZi0Uz"
      },
      "source": [
        "LVM toma el contexto de las plabras mientras NB las trata individualmente\n",
        "entonces quizas LVM funciones mejor con lematizacion !!!\n",
        "\n",
        "https://medium.com/@bedigunjit/simple-guide-to-text-classification-nlp-using-svm-and-naive-bayes-with-python-421db3a72d34\n"
      ]
    },
    {
      "cell_type": "code",
      "metadata": {
        "colab": {
          "base_uri": "https://localhost:8080/",
          "height": 701
        },
        "id": "RpFcjPdBMMlt",
        "outputId": "ea5fb784-fa71-4dd5-c110-b8a23ca3d956"
      },
      "source": [
        "metricas_modelo(X_train, y_train,dfPred['include?'],dfPred['pred_include_SVC'],\"pred_include_SVC to dfTrain\")\n",
        "print(pd.crosstab(dfPred['include?'], dfPred['pred_include_SVC']))"
      ],
      "execution_count": null,
      "outputs": [
        {
          "output_type": "stream",
          "name": "stdout",
          "text": [
            "\n",
            " **********  pred_include_SVC to dfTrain  *************\n",
            "\n",
            "Number of training samples: 45\n",
            "Unlabeled samples in training set: 0\n",
            "\n",
            "Number of test samples: 172\n",
            "Unlabeled samples in training set: 0\n",
            "\n",
            "Classifications true: 77\n",
            "Classifications false: 95\n",
            "Classifications error: 55.23%\n",
            "\n",
            "F1 score (Puntaje)   : 52.26%\n",
            "Accuracy (Exactitud) : 44.77%\n",
            "Precision (Precision): 36.11%\n",
            "Recall (Sensibilidad): 94.55%\n",
            "\n",
            "\n",
            "pred_include_SVC   0   1\n",
            "include?                \n",
            "0                 25  92\n",
            "1                  3  52\n"
          ]
        },
        {
          "output_type": "display_data",
          "data": {
            "image/png": "[encoded data removed]",
            "text/plain": [
              "<Figure size 576x288 with 2 Axes>"
            ]
          },
          "metadata": {
            "needs_background": "light"
          }
        },
        {
          "output_type": "stream",
          "name": "stdout",
          "text": [
            "time: 321 ms (started: 2021-12-09 12:12:44 +00:00)\n"
          ]
        }
      ]
    },
    {
      "cell_type": "markdown",
      "metadata": {
        "id": "-hNxj2NvlzCA"
      },
      "source": [
        "## SVM y NB con estemizado"
      ]
    },
    {
      "cell_type": "markdown",
      "metadata": {
        "id": "i6D5xlqeStbG"
      },
      "source": [
        "### Definimos subset entrenamiento"
      ]
    },
    {
      "cell_type": "code",
      "metadata": {
        "colab": {
          "base_uri": "https://localhost:8080/"
        },
        "id": "Am_-uFoFlzCC",
        "outputId": "7023562f-9fed-4b35-da0c-d523a7c6c6ca"
      },
      "source": [
        "dsEntrenamiento=pd.concat([df_este[df_este['include?']==1][0:30],df_este[df_este['include?']==0][0:30]], axis=0 )\n",
        "dfSubset=dsEntrenamiento[[\"text_to_proc\", \"include?\"]]\n",
        "dfUnseen = df_este[~df_este.index.isin(dfSubset.index)]"
      ],
      "execution_count": null,
      "outputs": [
        {
          "output_type": "stream",
          "name": "stdout",
          "text": [
            "time: 9.48 ms (started: 2021-12-09 12:16:38 +00:00)\n"
          ]
        }
      ]
    },
    {
      "cell_type": "markdown",
      "metadata": {
        "id": "Z0YDfUCkSwxH"
      },
      "source": [
        "### Entrenamos modelos"
      ]
    },
    {
      "cell_type": "code",
      "metadata": {
        "colab": {
          "base_uri": "https://localhost:8080/"
        },
        "id": "sFH0pBoKlzCD",
        "outputId": "ffd16ea7-9318-4627-93de-2ef90469adb7"
      },
      "source": [
        "X_train, X_test, y_train, y_test = train_test_split(dfSubset['text_to_proc'], dfSubset['include?'], random_state = 42)\n",
        "\n",
        "#vectorizamos y transformamos tdidf para entrenar al modelo\n",
        "count_vect = CountVectorizer()\n",
        "X_train_counts = count_vect.fit_transform(X_train)\n",
        "tfidf_transformer = TfidfTransformer()\n",
        "X_train_tfidf = tfidf_transformer.fit_transform(X_train_counts)\n",
        "clf_NB = MultinomialNB().fit(X_train_tfidf, y_train)\n",
        "clf_SVC = LinearSVC().fit(X_train_tfidf, y_train)"
      ],
      "execution_count": null,
      "outputs": [
        {
          "output_type": "stream",
          "name": "stdout",
          "text": [
            "time: 26.3 ms (started: 2021-12-09 12:16:43 +00:00)\n"
          ]
        }
      ]
    },
    {
      "cell_type": "markdown",
      "metadata": {
        "id": "SAF-eof7S5C-"
      },
      "source": [
        "### Realizamos predicciones con unseen"
      ]
    },
    {
      "cell_type": "code",
      "metadata": {
        "colab": {
          "base_uri": "https://localhost:8080/"
        },
        "id": "RlA8rxLQlzCE",
        "outputId": "dcd989c4-965e-4bb5-dc57-7493bee7222e"
      },
      "source": [
        "#realizamos predicciones con df_cluster\n",
        "dfPred = dfUnseen.copy()\n",
        "dfPred[\"pred_include_NB\"] = 0\n",
        "dfPred[\"pred_include_SVC\"] = 0\n",
        "for index in dfPred.index:\n",
        "    aux = dfPred[\"text_to_proc\"][index]\n",
        "    dfPred[\"pred_include_NB\"][index] = clf_NB.predict(count_vect.transform([aux]))\n",
        "    dfPred[\"pred_include_SVC\"][index] = clf_SVC.predict(count_vect.transform([aux]))"
      ],
      "execution_count": null,
      "outputs": [
        {
          "output_type": "stream",
          "name": "stdout",
          "text": [
            "time: 174 ms (started: 2021-12-09 12:16:46 +00:00)\n"
          ]
        },
        {
          "output_type": "stream",
          "name": "stderr",
          "text": [
            "/usr/local/lib/python3.7/dist-packages/ipykernel_launcher.py:7: SettingWithCopyWarning: \n",
            "A value is trying to be set on a copy of a slice from a DataFrame\n",
            "\n",
            "See the caveats in the documentation: https://pandas.pydata.org/pandas-docs/stable/user_guide/indexing.html#returning-a-view-versus-a-copy\n",
            "  import sys\n",
            "/usr/local/lib/python3.7/dist-packages/ipykernel_launcher.py:8: SettingWithCopyWarning: \n",
            "A value is trying to be set on a copy of a slice from a DataFrame\n",
            "\n",
            "See the caveats in the documentation: https://pandas.pydata.org/pandas-docs/stable/user_guide/indexing.html#returning-a-view-versus-a-copy\n",
            "  \n"
          ]
        }
      ]
    },
    {
      "cell_type": "markdown",
      "metadata": {
        "id": "jT82kAWMTDYk"
      },
      "source": [
        "### Metricas con SVC"
      ]
    },
    {
      "cell_type": "code",
      "metadata": {
        "colab": {
          "base_uri": "https://localhost:8080/",
          "height": 631
        },
        "id": "GXMmqUMvlzCF",
        "outputId": "9d5680d5-67e2-4c1a-eaec-9495529df540"
      },
      "source": [
        "metricas_modelo(X_train, y_train,dfPred['include?'],dfPred['pred_include_SVC'],\"pred_include_SVC to dfTrain\")\n",
        "# print(pd.crosstab(dfPred['include?'], dfPred['pred_include_SVC']))"
      ],
      "execution_count": null,
      "outputs": [
        {
          "output_type": "stream",
          "name": "stdout",
          "text": [
            "\n",
            " **********  pred_include_SVC to dfTrain  *************\n",
            "\n",
            "Number of training samples: 45\n",
            "Unlabeled samples in training set: 0\n",
            "\n",
            "Number of test samples: 146\n",
            "Unlabeled samples in training set: 0\n",
            "\n",
            "Classifications true: 70\n",
            "Classifications false: 76\n",
            "Classifications error: 52.05%\n",
            "\n",
            "F1 score (Puntaje)   : 57.3%\n",
            "Accuracy (Exactitud) : 47.95%\n",
            "Precision (Precision): 41.46%\n",
            "Recall (Sensibilidad): 92.73%\n",
            "\n",
            "\n"
          ]
        },
        {
          "output_type": "display_data",
          "data": {
            "image/png": "[encoded data removed]",
            "text/plain": [
              "<Figure size 576x288 with 2 Axes>"
            ]
          },
          "metadata": {
            "needs_background": "light"
          }
        },
        {
          "output_type": "stream",
          "name": "stdout",
          "text": [
            "time: 285 ms (started: 2021-12-09 12:16:50 +00:00)\n"
          ]
        }
      ]
    },
    {
      "cell_type": "markdown",
      "metadata": {
        "id": "ujSburJ6TJdS"
      },
      "source": [
        "### Metricas con NB"
      ]
    },
    {
      "cell_type": "code",
      "metadata": {
        "colab": {
          "base_uri": "https://localhost:8080/",
          "height": 701
        },
        "id": "mXlJjeEdlzCF",
        "outputId": "18bb732e-dbc8-4704-d0a5-0927f9e42194"
      },
      "source": [
        "metricas_modelo(X_train, y_train,dfPred['include?'],dfPred['pred_include_NB'],\"pred_include_NB to dfTrain\")\n",
        "print(pd.crosstab(dfPred['include?'], dfPred['pred_include_NB']))"
      ],
      "execution_count": null,
      "outputs": [
        {
          "output_type": "stream",
          "name": "stdout",
          "text": [
            "\n",
            " **********  pred_include_NB to dfTrain  *************\n",
            "\n",
            "Number of training samples: 45\n",
            "Unlabeled samples in training set: 0\n",
            "\n",
            "Number of test samples: 146\n",
            "Unlabeled samples in training set: 0\n",
            "\n",
            "Classifications true: 63\n",
            "Classifications false: 83\n",
            "Classifications error: 56.85%\n",
            "\n",
            "F1 score (Puntaje)   : 55.61%\n",
            "Accuracy (Exactitud) : 43.15%\n",
            "Precision (Precision): 39.39%\n",
            "Recall (Sensibilidad): 94.55%\n",
            "\n",
            "\n",
            "pred_include_NB   0   1\n",
            "include?               \n",
            "0                11  80\n",
            "1                 3  52\n"
          ]
        },
        {
          "output_type": "display_data",
          "data": {
            "image/png": "[encoded data removed]",
            "text/plain": [
              "<Figure size 576x288 with 2 Axes>"
            ]
          },
          "metadata": {
            "needs_background": "light"
          }
        },
        {
          "output_type": "stream",
          "name": "stdout",
          "text": [
            "time: 272 ms (started: 2021-12-09 02:01:22 +00:00)\n"
          ]
        }
      ]
    }
  ]
}